{
 "metadata": {
  "name": "",
  "signature": "sha256:627d7e843e6ca3cebcb5fbf08f100bcc922b5811b343268cdcf26d13c81f06c7"
 },
 "nbformat": 3,
 "nbformat_minor": 0,
 "worksheets": [
  {
   "cells": [
    {
     "cell_type": "heading",
     "level": 1,
     "metadata": {},
     "source": [
      "Plotly's Python API User Guide"
     ]
    },
    {
     "cell_type": "heading",
     "level": 2,
     "metadata": {},
     "source": [
      "Appendix A: Python Basics"
     ]
    },
    {
     "cell_type": "markdown",
     "metadata": {},
     "source": [
      "Welcome to Plotly's Python API User Guide. \n",
      "\n",
      "> Links to the other sections are on the User Guide's [homepage](https://plot.ly/python/user-guide#Table-of-Contents:) <br>\n",
      "The Github repository is available \n",
      "<a href=\"https://github.com/plotly/python-user-guide\" target=\"_blank\">here</a>"
     ]
    },
    {
     "cell_type": "markdown",
     "metadata": {},
     "source": [
      "Appendix A is divided as follows:\n",
      "\n",
      "* [A.1 Variables and assignments](#A.1-Variables-and-assignments)\n",
      "\n",
      "* [A.2 Lists](#A.2-Lists)\n",
      "\n",
      "* [A.3 Dictionaries](#A.3-Dictionaries)\n",
      "\n",
      "* [A.4 Functions](#A.4-Functions)\n",
      "\n",
      "* [A.5 For loops, while loops, if statements](#A.5-For-loops,-while-loops,-if-statements)\n",
      "\n",
      "* [A.6 List comprehension](#A.6-List-comprehension)\n",
      "\n",
      "* [A.7 Numpy arrays](#A.7-Numpy-arrays)\n",
      "\n",
      "* [A.8 String manipulation](#A.8-String-manipulation)\n",
      "\n",
      "\n",
      "<hr>"
     ]
    },
    {
     "cell_type": "markdown",
     "metadata": {},
     "source": [
      "Appendix A presents valauble information and examples about some of Python's features most used in conjunction with Plotly's Python API.\n",
      "\n",
      "\n",
      "\n",
      "Readers looking for a more thorough look at Python, we recommand:\n",
      "\n",
      "* <a href=\"http://nbviewer.ipython.org/github/ehmatthes/intro_programming/blob/master/notebooks/index.ipynb\" target=\"_blank\">Eric Matthes' Introduction to Programming (using Python)</a>\n",
      "\n",
      "* <a href=\"http://nbviewer.ipython.org/gist/rpmuller/5920182\" target=\"_blank\"> Rick Muller's Crash Course in Python</a>\n",
      "\n",
      "* <a href=\"https://docs.python.org/2/tutorial/introduction.html\" target=\"_blank\">The Official Python Documentation</a>\n",
      "\n",
      "For for module-specific documentation, see:\n",
      "\n",
      "* <a href=\"http://nbviewer.ipython.org/github/jrjohansson/scientific-python-lectures/tree/master/\" target=\"_blank\">J.R. Johansson's Numpy and Matplotlib tutorial</a>\n",
      "\n",
      "* <a href=\"https://bitbucket.org/hrojas/learn-pandas\" target=\"_blank\">Hern\u00e1n Rojas' Pandas tutorial</a>\n",
      "\n",
      "* <a href=\"http://docs.scipy.org/doc/scipy/reference/tutorial/stats.html\" target=\"_blank\">  Official Scipy statistic tutorial</a>\n",
      "\n"
     ]
    },
    {
     "cell_type": "heading",
     "level": 3,
     "metadata": {},
     "source": [
      "A.1 Variables and assignments"
     ]
    },
    {
     "cell_type": "markdown",
     "metadata": {},
     "source": [
      "First, let's create a Python variable and print its value:"
     ]
    },
    {
     "cell_type": "code",
     "collapsed": false,
     "input": [
      "my_var = 7    # assign\n",
      "\n",
      "my_var        # evaluate (i.e. print in cell in IPython)"
     ],
     "language": "python",
     "metadata": {},
     "outputs": [
      {
       "metadata": {},
       "output_type": "pyout",
       "prompt_number": 1,
       "text": [
        "7"
       ]
      }
     ],
     "prompt_number": 1
    },
    {
     "cell_type": "markdown",
     "metadata": {},
     "source": [
      "Python is a *dynamically typed* programming language. Variables are created on assignment (i.e. no need to declared them in advance) and their respective types do not have to be specify on assigment.\n",
      "Assignments in Python are made with the `=` character."
     ]
    },
    {
     "cell_type": "heading",
     "level": 3,
     "metadata": {},
     "source": [
      "A.2 Lists"
     ]
    },
    {
     "cell_type": "markdown",
     "metadata": {},
     "source": [
      "Lists are *ordered* collections of items (e.g. string, numbers, boolean, other lists), that are referred to (or figuratively *stored in*) a variable. Lists are created using square bracket `[` `]` where each item (or entry, a synonym) is seperated by a comma `,`. For example,"
     ]
    },
    {
     "cell_type": "code",
     "collapsed": false,
     "input": [
      "my_list = [1, 2, 5, 6]\n",
      "\n",
      "my_list"
     ],
     "language": "python",
     "metadata": {},
     "outputs": [
      {
       "metadata": {},
       "output_type": "pyout",
       "prompt_number": 2,
       "text": [
        "[1, 2, 5, 6]"
       ]
      }
     ],
     "prompt_number": 2
    },
    {
     "cell_type": "markdown",
     "metadata": {},
     "source": [
      "To retrieve a particular item in a Python list, call its index inside `[ ]`. Indexing in Python starts at index `0`, the last item has index `-1`. Observe that,"
     ]
    },
    {
     "cell_type": "code",
     "collapsed": false,
     "input": [
      "my_list[0]  # first item"
     ],
     "language": "python",
     "metadata": {},
     "outputs": [
      {
       "metadata": {},
       "output_type": "pyout",
       "prompt_number": 3,
       "text": [
        "1"
       ]
      }
     ],
     "prompt_number": 3
    },
    {
     "cell_type": "code",
     "collapsed": false,
     "input": [
      "my_list[0:2]  # show first and second item"
     ],
     "language": "python",
     "metadata": {},
     "outputs": [
      {
       "metadata": {},
       "output_type": "pyout",
       "prompt_number": 4,
       "text": [
        "[1, 2]"
       ]
      }
     ],
     "prompt_number": 4
    },
    {
     "cell_type": "code",
     "collapsed": false,
     "input": [
      "my_list[-1]  # last item"
     ],
     "language": "python",
     "metadata": {},
     "outputs": [
      {
       "metadata": {},
       "output_type": "pyout",
       "prompt_number": 5,
       "text": [
        "6"
       ]
      }
     ],
     "prompt_number": 5
    },
    {
     "cell_type": "code",
     "collapsed": false,
     "input": [
      "# Show sublist of 2nd to last item to 2nd item with backward step of 1\n",
      "my_list[-2:0:-1]"
     ],
     "language": "python",
     "metadata": {},
     "outputs": [
      {
       "metadata": {},
       "output_type": "pyout",
       "prompt_number": 6,
       "text": [
        "[5, 2]"
       ]
      }
     ],
     "prompt_number": 6
    },
    {
     "cell_type": "markdown",
     "metadata": {},
     "source": [
      "You can concatenate two lists using the `+` character"
     ]
    },
    {
     "cell_type": "code",
     "collapsed": false,
     "input": [
      "my_list2 = ['plotly', 'is', 'awesome']  # define another list\n",
      " \n",
      "my_list3 = my_list + my_list2  # concatenate\n",
      "\n",
      "my_list3"
     ],
     "language": "python",
     "metadata": {},
     "outputs": [
      {
       "metadata": {},
       "output_type": "pyout",
       "prompt_number": 7,
       "text": [
        "[1, 2, 5, 6, 'plotly', 'is', 'awesome']"
       ]
      }
     ],
     "prompt_number": 7
    },
    {
     "cell_type": "markdown",
     "metadata": {},
     "source": [
      "And append item to an existing list using the `append()` method"
     ]
    },
    {
     "cell_type": "code",
     "collapsed": false,
     "input": [
      "my_list3.append(100)        # append just a single item\n",
      "\n",
      "my_list3"
     ],
     "language": "python",
     "metadata": {},
     "outputs": [
      {
       "metadata": {},
       "output_type": "pyout",
       "prompt_number": 8,
       "text": [
        "[1, 2, 5, 6, 'plotly', 'is', 'awesome', 100]"
       ]
      }
     ],
     "prompt_number": 8
    },
    {
     "cell_type": "code",
     "collapsed": false,
     "input": [
      "my_list3.append(my_list2)   # append list with list\n",
      "\n",
      "my_list3"
     ],
     "language": "python",
     "metadata": {},
     "outputs": [
      {
       "metadata": {},
       "output_type": "pyout",
       "prompt_number": 9,
       "text": [
        "[1, 2, 5, 6, 'plotly', 'is', 'awesome', 100, ['plotly', 'is', 'awesome']]"
       ]
      }
     ],
     "prompt_number": 9
    },
    {
     "cell_type": "markdown",
     "metadata": {},
     "source": [
      "When one of the items in a given list is itself a list, retrieving a nested item requires two indices:"
     ]
    },
    {
     "cell_type": "code",
     "collapsed": false,
     "input": [
      "my_list3[-1][0]  # first item in nested list of last item in my_list3"
     ],
     "language": "python",
     "metadata": {},
     "outputs": [
      {
       "metadata": {},
       "output_type": "pyout",
       "prompt_number": 10,
       "text": [
        "'plotly'"
       ]
      }
     ],
     "prompt_number": 10
    },
    {
     "cell_type": "markdown",
     "metadata": {},
     "source": [
      "And so on for lists of lists of lists and even more-deeply nested lists. Note that lists that do not contain nested items are called *flat lists*."
     ]
    },
    {
     "cell_type": "markdown",
     "metadata": {},
     "source": [
      "Python lists are <a href=\"https://docs.python.org/2/glossary.html#term-mutable\" target=\"_blank\">mutuable</a> objects (unlike numbers and strings for example). So, when multiple variables refer to the same underlying list, assigning a change in one variable affects all the other variables which refer to that underlying list."
     ]
    },
    {
     "cell_type": "code",
     "collapsed": false,
     "input": [
      "my_list3_ref = my_list3  # variables my_list_ref and my_list3 refer to same list\n",
      "\n",
      "my_list3[4] = 'PLOTLY'   # changing item in my_list3 affects my_list3_ref\n",
      "\n",
      "my_list3_ref"
     ],
     "language": "python",
     "metadata": {},
     "outputs": [
      {
       "metadata": {},
       "output_type": "pyout",
       "prompt_number": 11,
       "text": [
        "[1, 2, 5, 6, 'PLOTLY', 'is', 'awesome', 100, ['plotly', 'is', 'awesome']]"
       ]
      }
     ],
     "prompt_number": 11
    },
    {
     "cell_type": "code",
     "collapsed": false,
     "input": [
      "my_list3_ref[6] = 'AWESOME' # changing item in my_list3_ref affects my_list3\n",
      "\n",
      "my_list3"
     ],
     "language": "python",
     "metadata": {},
     "outputs": [
      {
       "metadata": {},
       "output_type": "pyout",
       "prompt_number": 12,
       "text": [
        "[1, 2, 5, 6, 'PLOTLY', 'is', 'AWESOME', 100, ['plotly', 'is', 'awesome']]"
       ]
      }
     ],
     "prompt_number": 12
    },
    {
     "cell_type": "markdown",
     "metadata": {},
     "source": [
      "To intialize a list using an existing list while keeping them independent of one another,\n",
      "you can either assign a *shallow copy* or a *deep copy*. The most important difference between these two methods is that a shallow copy does not break up references of nested lists whereas a deep copy does. So first, consider an example of a shallow copy:"
     ]
    },
    {
     "cell_type": "code",
     "collapsed": false,
     "input": [
      "my_list3_sc = list(my_list3)  # assign a shallow copy of my_list3 to my_list3_sc,\n",
      "                              #   same as my_list3_sc = my_list3[:]\n",
      "\n",
      "my_list3[4] = 'PlOtLy'    # changes non-nested item in my_list3, not my_list3_sc\n",
      "\n",
      "my_list3_sc                   "
     ],
     "language": "python",
     "metadata": {},
     "outputs": [
      {
       "metadata": {},
       "output_type": "pyout",
       "prompt_number": 13,
       "text": [
        "[1, 2, 5, 6, 'PLOTLY', 'is', 'AWESOME', 100, ['plotly', 'is', 'awesome']]"
       ]
      }
     ],
     "prompt_number": 13
    },
    {
     "cell_type": "code",
     "collapsed": false,
     "input": [
      "my_list3_sc[6] = 'AwEsOmE'  # changes non-nested item in my_list3_sc, not my_list3\n",
      "\n",
      "my_list3                     "
     ],
     "language": "python",
     "metadata": {},
     "outputs": [
      {
       "metadata": {},
       "output_type": "pyout",
       "prompt_number": 14,
       "text": [
        "[1, 2, 5, 6, 'PlOtLy', 'is', 'AWESOME', 100, ['plotly', 'is', 'awesome']]"
       ]
      }
     ],
     "prompt_number": 14
    },
    {
     "cell_type": "markdown",
     "metadata": {},
     "source": [
      "OK. But, see what happens when we change a nested item:"
     ]
    },
    {
     "cell_type": "code",
     "collapsed": false,
     "input": [
      "my_list3[-1][0] = 0   #  changes a nested item in my_list3 AND in my_list3_sc\n",
      "\n",
      "my_list3_sc "
     ],
     "language": "python",
     "metadata": {},
     "outputs": [
      {
       "metadata": {},
       "output_type": "pyout",
       "prompt_number": 15,
       "text": [
        "[1, 2, 5, 6, 'PLOTLY', 'is', 'AwEsOmE', 100, [0, 'is', 'awesome']]"
       ]
      }
     ],
     "prompt_number": 15
    },
    {
     "cell_type": "markdown",
     "metadata": {},
     "source": [
      "To make a deep copy of a list, we must use the <a href=\"https://docs.python.org/2/library/copy.html\" target=\"_blank\">copy module</a>:"
     ]
    },
    {
     "cell_type": "code",
     "collapsed": false,
     "input": [
      "import copy  # import copy module\n",
      "\n",
      "my_list3_dc = copy.deepcopy(my_list3) # assign deep copy of my_list3 to my_list3_dc\n",
      "\n",
      "my_list3[-1][0] = 'plotly'  # changes a nested item in my_list3, NOT in my_list3_dc\n",
      "\n",
      "my_list3_dc"
     ],
     "language": "python",
     "metadata": {},
     "outputs": [
      {
       "metadata": {},
       "output_type": "pyout",
       "prompt_number": 16,
       "text": [
        "[1, 2, 5, 6, 'PlOtLy', 'is', 'AWESOME', 100, [0, 'is', 'awesome']]"
       ]
      }
     ],
     "prompt_number": 16
    },
    {
     "cell_type": "markdown",
     "metadata": {},
     "source": [
      "In brief, copying lists (and other mutable objects) in Python must be done with care."
     ]
    },
    {
     "cell_type": "heading",
     "level": 3,
     "metadata": {},
     "source": [
      "A.3 Dictionaries"
     ]
    },
    {
     "cell_type": "markdown",
     "metadata": {},
     "source": [
      "Dictionaries are *unordered* collections of key-value pairs that are referred to (or figuratively *stored* in) a variable. They are used extensively in Plotly's Python API as they are a convenient way to store a plot's layout and style specifications.\n",
      "\n",
      "Dictionaries are created using curly brackets `{` `}` (the so-called *dict literal* way) where each key-value pair is seperated by a comma `,`. Keys are on the left-hand side of `:` and their corresponding values are on the right-hand side of `:`."
     ]
    },
    {
     "cell_type": "code",
     "collapsed": false,
     "input": [
      "my_dict = {'2': 'stuff', 1: 77.7, 'id': ['more', 'stuff']} \n",
      "\n",
      "my_dict"
     ],
     "language": "python",
     "metadata": {},
     "outputs": [
      {
       "metadata": {},
       "output_type": "pyout",
       "prompt_number": 17,
       "text": [
        "{1: 77.7, '2': 'stuff', 'id': ['more', 'stuff']}"
       ]
      }
     ],
     "prompt_number": 17
    },
    {
     "cell_type": "markdown",
     "metadata": {},
     "source": [
      "Dictionary keys are typically strings. That said, they can be any <a href=\"https://docs.python.org/2/glossary.html#term-hashable\" target=\"_blank\">hashable object</a> (e.g. numbers, tuples) in general. Dictionaries are unordered collections so they may not print in the same order as they were assigned. To retrieve the value of a particular key in a dictionary use `[` `]`. For example,"
     ]
    },
    {
     "cell_type": "code",
     "collapsed": false,
     "input": [
      "my_dict['2']"
     ],
     "language": "python",
     "metadata": {},
     "outputs": [
      {
       "metadata": {},
       "output_type": "pyout",
       "prompt_number": 18,
       "text": [
        "'stuff'"
       ]
      }
     ],
     "prompt_number": 18
    },
    {
     "cell_type": "markdown",
     "metadata": {},
     "source": [
      "One can also define dictionaries using the following syntax (the *dict constructor* way):"
     ]
    },
    {
     "cell_type": "code",
     "collapsed": false,
     "input": [
      "my_dict2 = dict(company='plotly', api='python', ipython=True)\n",
      "\n",
      "my_dict2"
     ],
     "language": "python",
     "metadata": {},
     "outputs": [
      {
       "metadata": {},
       "output_type": "pyout",
       "prompt_number": 19,
       "text": [
        "{'api': 'python', 'company': 'plotly', 'ipython': True}"
       ]
      }
     ],
     "prompt_number": 19
    },
    {
     "cell_type": "markdown",
     "metadata": {},
     "source": [
      "Where the keys, here on the left-hand side of `=`, must be valid <a href=\"https://docs.python.org/2/reference/lexical_analysis.html#identifiers\" target=\"_blank\">identifiers</a> (i.e. that start with a letter and that otherwise contain only letters or underscores).\n",
      "\n",
      "Make sure that you are comfortable with both styles of syntax to create and manipulate dictionaries, both are used extensively in the User Guide."
     ]
    },
    {
     "cell_type": "markdown",
     "metadata": {},
     "source": [
      "To add new key-values pair in a given dictionary, either assign values to keys or use the `update()` method:"
     ]
    },
    {
     "cell_type": "code",
     "collapsed": false,
     "input": [
      "my_dict2['version'] = '1.0'           # add 'version': '1.0' to my_dict2\n",
      "my_dict2.update({'ipython-nb': True}) # update my_dict2 with another dictionary\n",
      "my_dict2.update(dict(team='Jack & co.'))  # similarly\n",
      "\n",
      "my_dict2"
     ],
     "language": "python",
     "metadata": {},
     "outputs": [
      {
       "metadata": {},
       "output_type": "pyout",
       "prompt_number": 20,
       "text": [
        "{'api': 'python',\n",
        " 'company': 'plotly',\n",
        " 'ipython': True,\n",
        " 'ipython-nb': True,\n",
        " 'team': 'Jack & co.',\n",
        " 'version': '1.0'}"
       ]
      }
     ],
     "prompt_number": 20
    },
    {
     "cell_type": "markdown",
     "metadata": {},
     "source": [
      "With the same techniques, one can modify values of existing keys:"
     ]
    },
    {
     "cell_type": "code",
     "collapsed": false,
     "input": [
      "my_dict2['api'] = 'python 2.7+'                # modify value of 'api' key\n",
      "my_dict2.update({'company': 'plotly graphs'})  # overwrite value of 'company' key\n",
      "\n",
      "# Update dictionary with key linking to another dictionary\n",
      "my_dict2.update(dict(\n",
      "    team=dict(\n",
      "        eng=['Chris', 'Ben', 'Marianne', 'Alex V', 'Andrew', 'Jody'],\n",
      "        ceo='Jack',\n",
      "        coo='Matt', \n",
      "        cto='Alex J'\n",
      "    )\n",
      "))\n",
      "\n",
      "my_dict2"
     ],
     "language": "python",
     "metadata": {},
     "outputs": [
      {
       "metadata": {},
       "output_type": "pyout",
       "prompt_number": 21,
       "text": [
        "{'api': 'python 2.7+',\n",
        " 'company': 'plotly graphs',\n",
        " 'ipython': True,\n",
        " 'ipython-nb': True,\n",
        " 'team': {'ceo': 'Jack',\n",
        "  'coo': 'Matt',\n",
        "  'cto': 'Alex J',\n",
        "  'eng': ['Chris', 'Ben', 'Marianne', 'Alex V', 'Andrew', 'Jody']},\n",
        " 'version': '1.0'}"
       ]
      }
     ],
     "prompt_number": 21
    },
    {
     "cell_type": "markdown",
     "metadata": {},
     "source": [
      "You can update the nested keys as such:"
     ]
    },
    {
     "cell_type": "code",
     "collapsed": false,
     "input": [
      "# This updates the nested key in dictionary\n",
      "my_dict2['team'].update({'ceo': 'Jack P'})\n",
      "\n",
      "my_dict2"
     ],
     "language": "python",
     "metadata": {},
     "outputs": [
      {
       "metadata": {},
       "output_type": "pyout",
       "prompt_number": 22,
       "text": [
        "{'api': 'python 2.7+',\n",
        " 'company': 'plotly graphs',\n",
        " 'ipython': True,\n",
        " 'ipython-nb': True,\n",
        " 'team': {'ceo': 'Jack P',\n",
        "  'coo': 'Matt',\n",
        "  'cto': 'Alex J',\n",
        "  'eng': ['Chris', 'Ben', 'Marianne', 'Alex V', 'Andrew', 'Jody']},\n",
        " 'version': '1.0'}"
       ]
      }
     ],
     "prompt_number": 22
    },
    {
     "cell_type": "markdown",
     "metadata": {},
     "source": [
      "But, please be careful"
     ]
    },
    {
     "cell_type": "code",
     "collapsed": false,
     "input": [
      "# This updates the flat dictionary keys only\n",
      "my_dict2.update({'team': {'ceo': 'Jack Parmer'}})\n",
      "\n",
      "my_dict2"
     ],
     "language": "python",
     "metadata": {},
     "outputs": [
      {
       "metadata": {},
       "output_type": "pyout",
       "prompt_number": 23,
       "text": [
        "{'api': 'python 2.7+',\n",
        " 'company': 'plotly graphs',\n",
        " 'ipython': True,\n",
        " 'ipython-nb': True,\n",
        " 'team': {'ceo': 'Jack Parmer'},\n",
        " 'version': '1.0'}"
       ]
      }
     ],
     "prompt_number": 23
    },
    {
     "cell_type": "markdown",
     "metadata": {},
     "source": [
      "The above code cell swapped the `'team'` key. That is, we updated only the flat dictionary without any consideration for the nested structure. \n",
      "\n",
      "> Plotly engineers think that the default dictionary update method is not optimal when working with Plotly. Therefore, Plotly graph objects are built to perserve nested structures during updates (more on graph objects in <a href=\"https://plot.ly/python/overview#0.5-Graph-object-methods\" target=\"\">section 0</a>)."
     ]
    },
    {
     "cell_type": "markdown",
     "metadata": {},
     "source": [
      "Like lists, dictionaries are mutuable objects. Use the `dict()` function or the `.copy()` method to assign a shallow copy and use the `copy.deepcopy` function (of the `copy` module) to assign a deep copy."
     ]
    },
    {
     "cell_type": "heading",
     "level": 3,
     "metadata": {},
     "source": [
      "A.4 Functions"
     ]
    },
    {
     "cell_type": "markdown",
     "metadata": {},
     "source": [
      "Functions in Python are defined starting with the `def` Python keyword, followed by the function's name, a set of parentheses and a colon:"
     ]
    },
    {
     "cell_type": "code",
     "collapsed": false,
     "input": [
      "def my_func(x):    # define function (notice the :)\n",
      "    return x + 1   # return value (scope of function is indented)\n",
      "\n",
      "my_func(1)        # call my_func() with position argument = s1"
     ],
     "language": "python",
     "metadata": {},
     "outputs": [
      {
       "metadata": {},
       "output_type": "pyout",
       "prompt_number": 24,
       "text": [
        "2"
       ]
      }
     ],
     "prompt_number": 24
    },
    {
     "cell_type": "markdown",
     "metadata": {},
     "source": [
      "A function's scope is delimitated by the indented block following the `def` statement.\n",
      "\n",
      "Function can have arguments or not. They can return values (more generally objects) or not. \n",
      "Valid arguments are listed inside the parentheses (which may be empty) in the `def` statement. Returned objects follow the `return` keyword.\n",
      "\n",
      "A function definition must precede calls to the same function; calling `my_func()` before the `def` statement would result in an error.\n",
      "\n",
      "Python functions support positional and keyword arguments:"
     ]
    },
    {
     "cell_type": "code",
     "collapsed": false,
     "input": [
      "def my_func2(a, b, c=3):  # 2 positional arguments and 1 keyword argument\n",
      "    return a + b + c\n",
      "\n",
      "my_func2(1, 2)            # call my_func2 with 2 positional arguments"
     ],
     "language": "python",
     "metadata": {},
     "outputs": [
      {
       "metadata": {},
       "output_type": "pyout",
       "prompt_number": 25,
       "text": [
        "6"
       ]
      }
     ],
     "prompt_number": 25
    },
    {
     "cell_type": "markdown",
     "metadata": {},
     "source": [
      "Where `a` and `b` are postional arguments and `c` is a keyword argument. Keyword arguments are defined with a default value (e.g. `c=3`).\n",
      "\n",
      "In the above code cell, `c` is specified in the `my_func2()` call, so `my_func()` returns 1+2+3 which evaluated to 6.\n",
      "\n",
      "Keyword arguments can be overwritten using the following syntax:"
     ]
    },
    {
     "cell_type": "code",
     "collapsed": false,
     "input": [
      "my_func2(1, 2, 4)  # overwrite keyword argument with 4 (evaluates 1+2+4)"
     ],
     "language": "python",
     "metadata": {},
     "outputs": [
      {
       "metadata": {},
       "output_type": "pyout",
       "prompt_number": 26,
       "text": [
        "7"
       ]
      }
     ],
     "prompt_number": 26
    },
    {
     "cell_type": "markdown",
     "metadata": {},
     "source": [
      "or"
     ]
    },
    {
     "cell_type": "code",
     "collapsed": false,
     "input": [
      "my_func2(1, 2, c=5)  # overwrite keyword argument (c) with 5 (evaluates 1+2+5)"
     ],
     "language": "python",
     "metadata": {},
     "outputs": [
      {
       "metadata": {},
       "output_type": "pyout",
       "prompt_number": 27,
       "text": [
        "8"
       ]
      }
     ],
     "prompt_number": 27
    },
    {
     "cell_type": "markdown",
     "metadata": {},
     "source": [
      "The previous syntax is encouraged for functions of multiple keyword arguments as, in this way, the order on which keyword arguments are sent does not matter. Consider,"
     ]
    },
    {
     "cell_type": "code",
     "collapsed": false,
     "input": [
      "def my_func3(a, b, c=3, d=4):  # 2 positional arguments and 2 keyword arguments\n",
      "    return d, a + b + c + d    # return a tuple (more below)\n",
      "\n",
      "my_func3(1, 2, d=5)  # use c default, overwrite d (evaluates 1+2+3+5)"
     ],
     "language": "python",
     "metadata": {},
     "outputs": [
      {
       "metadata": {},
       "output_type": "pyout",
       "prompt_number": 28,
       "text": [
        "(5, 11)"
       ]
      }
     ],
     "prompt_number": 28
    },
    {
     "cell_type": "code",
     "collapsed": false,
     "input": [
      "my_func3(1, 2, d=5, c=0)  # overwrite d and c (keyword argument order doesn't matter)"
     ],
     "language": "python",
     "metadata": {},
     "outputs": [
      {
       "metadata": {},
       "output_type": "pyout",
       "prompt_number": 29,
       "text": [
        "(5, 8)"
       ]
      }
     ],
     "prompt_number": 29
    },
    {
     "cell_type": "markdown",
     "metadata": {},
     "source": [
      "Functions (e.g. `my_func3`) can have multiple outputs. This is done using tuples in the `return` statement:"
     ]
    },
    {
     "cell_type": "code",
     "collapsed": false,
     "input": [
      "def my_func4(x):                # take in 1 argument\n",
      "    return (x, x+1, x*2, x**2)  # output 4 numbers, inside a tuple\n",
      "\n",
      "my_func4(3)"
     ],
     "language": "python",
     "metadata": {},
     "outputs": [
      {
       "metadata": {},
       "output_type": "pyout",
       "prompt_number": 30,
       "text": [
        "(3, 4, 6, 9)"
       ]
      }
     ],
     "prompt_number": 30
    },
    {
     "cell_type": "markdown",
     "metadata": {},
     "source": [
      "To retrieve a particular value in a tuple output, we use a method called tuple-unpacking. For example,"
     ]
    },
    {
     "cell_type": "code",
     "collapsed": false,
     "input": [
      "out1,out2,_,out4 = my_func4(4)  # unpacks tuple. out1=4, out2=5, out4=16"
     ],
     "language": "python",
     "metadata": {},
     "outputs": [],
     "prompt_number": 31
    },
    {
     "cell_type": "markdown",
     "metadata": {},
     "source": [
      "Functions know about variables other than their inputted arguments.\n",
      "More specifically, functions search for variables inside their own scope first and then, if the variables in question are not found, functions look outside their own scope.\n",
      "For example,"
     ]
    },
    {
     "cell_type": "code",
     "collapsed": false,
     "input": [
      "x = [1, 2]         # variables outside\n",
      "y = [1, 4]         #   of make_trace() \n",
      "color = '#de2d26'  #   scope  \n",
      "\n",
      "def make_trace(x, y):  # function with 2 positional arguments\n",
      "    return dict(\n",
      "        x=x,     # x is a function argument\n",
      "        y=y,     # so is y\n",
      "        line=dict(color=color)  # (!) not defined inside function scope\n",
      "    )\n",
      "\n",
      "make_trace([1, 2, 3], [1, 4, 9]) "
     ],
     "language": "python",
     "metadata": {},
     "outputs": [
      {
       "metadata": {},
       "output_type": "pyout",
       "prompt_number": 32,
       "text": [
        "{'line': {'color': '#de2d26'}, 'x': [1, 2, 3], 'y': [1, 4, 9]}"
       ]
      }
     ],
     "prompt_number": 32
    },
    {
     "cell_type": "markdown",
     "metadata": {},
     "source": [
      "In the above, `make_trace()` uses `x` and `y` located inside its scope and `color` defined outside of its scope."
     ]
    },
    {
     "cell_type": "markdown",
     "metadata": {},
     "source": [
      "Python functions can be defined as expressions using the `lambda` keyword, instead of statements using `def`. Function expressions can be useful when working with functions that require a function as one of their arguments. \n",
      "\n",
      "For example, the `map()` built-in Python function applies a given function to each item of a list. So, instead of defining this given function in a seperate statement, the `lambda` keyword allows you to embed a function expression inside the `map()` call. Consider,"
     ]
    },
    {
     "cell_type": "code",
     "collapsed": false,
     "input": [
      "y = [1, 2, 3]  # some list of number\n",
      "\n",
      "map(lambda x: x+1, y)  # add 1 to every number in y"
     ],
     "language": "python",
     "metadata": {},
     "outputs": [
      {
       "metadata": {},
       "output_type": "pyout",
       "prompt_number": 33,
       "text": [
        "[2, 3, 4]"
       ]
      }
     ],
     "prompt_number": 33
    },
    {
     "cell_type": "markdown",
     "metadata": {},
     "source": [
      "Instead of,"
     ]
    },
    {
     "cell_type": "code",
     "collapsed": false,
     "input": [
      "def add_one(x):\n",
      "    return x + 1\n",
      "\n",
      "map(add_one, y)"
     ],
     "language": "python",
     "metadata": {},
     "outputs": [
      {
       "metadata": {},
       "output_type": "pyout",
       "prompt_number": 34,
       "text": [
        "[2, 3, 4]"
       ]
      }
     ],
     "prompt_number": 34
    },
    {
     "cell_type": "heading",
     "level": 3,
     "metadata": {},
     "source": [
      "A.5 For loops, while loops, if statements"
     ]
    },
    {
     "cell_type": "markdown",
     "metadata": {},
     "source": [
      "A Python for loop iterates (or loops) through an *iterable object*. The simplest example of an iterable object is a list of integers:"
     ]
    },
    {
     "cell_type": "code",
     "collapsed": false,
     "input": [
      "range(10)  # list of integers of unit step"
     ],
     "language": "python",
     "metadata": {},
     "outputs": [
      {
       "metadata": {},
       "output_type": "pyout",
       "prompt_number": 35,
       "text": [
        "[0, 1, 2, 3, 4, 5, 6, 7, 8, 9]"
       ]
      }
     ],
     "prompt_number": 35
    },
    {
     "cell_type": "markdown",
     "metadata": {},
     "source": [
      "Next, assign a variable to the item which will iterate over the iterable object and get:"
     ]
    },
    {
     "cell_type": "code",
     "collapsed": false,
     "input": [
      "for i in range(10):     #  i iterates over list of integers, : at end of statement!\n",
      "    print('item: ', i)  #  print string and value of i"
     ],
     "language": "python",
     "metadata": {},
     "outputs": [
      {
       "output_type": "stream",
       "stream": "stdout",
       "text": [
        "('item: ', 0)\n",
        "('item: ', 1)\n",
        "('item: ', 2)\n",
        "('item: ', 3)\n",
        "('item: ', 4)\n",
        "('item: ', 5)\n",
        "('item: ', 6)\n",
        "('item: ', 7)\n",
        "('item: ', 8)\n",
        "('item: ', 9)\n"
       ]
      }
     ],
     "prompt_number": 36
    },
    {
     "cell_type": "markdown",
     "metadata": {},
     "source": [
      "Where `i` took the value of every item in the given list of integer. "
     ]
    },
    {
     "cell_type": "markdown",
     "metadata": {},
     "source": [
      "A list of strings is another example of an iterable object. For example, we could loop through a list of dictionary key to delete each of them. Starting with one of the dictionaries we built in [subsection A.3](#A.3-Dictionaries),"
     ]
    },
    {
     "cell_type": "code",
     "collapsed": false,
     "input": [
      "my_dict2"
     ],
     "language": "python",
     "metadata": {},
     "outputs": [
      {
       "metadata": {},
       "output_type": "pyout",
       "prompt_number": 37,
       "text": [
        "{'api': 'python 2.7+',\n",
        " 'company': 'plotly graphs',\n",
        " 'ipython': True,\n",
        " 'ipython-nb': True,\n",
        " 'team': {'ceo': 'Jack Parmer'},\n",
        " 'version': '1.0'}"
       ]
      }
     ],
     "prompt_number": 37
    },
    {
     "cell_type": "markdown",
     "metadata": {},
     "source": [
      "Delete four keys using a for loop through a list of keys:"
     ]
    },
    {
     "cell_type": "code",
     "collapsed": false,
     "input": [
      "for k in ['api', 'ipython', 'ipython-nb', 'version']:  # iterate through list of keys\n",
      "    my_dict2.pop(k, None)  # delete key if exist, do nothing if key does not exist\n",
      "    \n",
      "my_dict2"
     ],
     "language": "python",
     "metadata": {},
     "outputs": [
      {
       "metadata": {},
       "output_type": "pyout",
       "prompt_number": 38,
       "text": [
        "{'company': 'plotly graphs', 'team': {'ceo': 'Jack Parmer'}}"
       ]
      }
     ],
     "prompt_number": 38
    },
    {
     "cell_type": "markdown",
     "metadata": {},
     "source": [
      "The `zip` function returns a list of tuples, where each tuple contains the i-th element from each of the argument. As one of its applications, the `zip` function makes it easy to iterate over two list simultaneously:"
     ]
    },
    {
     "cell_type": "code",
     "collapsed": false,
     "input": [
      "my_iter1 = [1, 4, 10]  # iterable object 1\n",
      "my_iter2 = [2, 3, 9]   # iterable object 2\n",
      "\n",
      "list_new = []  # initialize a new list\n",
      "\n",
      "for (x,y) in zip(my_iter1, my_iter2):  # zip 2 list together, name 2 item variables\n",
      "    list_new += [[x, y]]               # append list to list_new\n",
      "    \n",
      "list_new "
     ],
     "language": "python",
     "metadata": {},
     "outputs": [
      {
       "metadata": {},
       "output_type": "pyout",
       "prompt_number": 39,
       "text": [
        "[[1, 2], [4, 3], [10, 9]]"
       ]
      }
     ],
     "prompt_number": 39
    },
    {
     "cell_type": "markdown",
     "metadata": {},
     "source": [
      "For loops in conjunction with the `enumerate` function makes it easy to keep track of indices while looping through a iterable object. Starting with two lists we built in [subsection A.2](#A.2-Lists),"
     ]
    },
    {
     "cell_type": "code",
     "collapsed": false,
     "input": [
      "my_list"
     ],
     "language": "python",
     "metadata": {},
     "outputs": [
      {
       "metadata": {},
       "output_type": "pyout",
       "prompt_number": 40,
       "text": [
        "[1, 2, 5, 6]"
       ]
      }
     ],
     "prompt_number": 40
    },
    {
     "cell_type": "code",
     "collapsed": false,
     "input": [
      "my_list2"
     ],
     "language": "python",
     "metadata": {},
     "outputs": [
      {
       "metadata": {},
       "output_type": "pyout",
       "prompt_number": 41,
       "text": [
        "['plotly', 'is', 'awesome']"
       ]
      }
     ],
     "prompt_number": 41
    },
    {
     "cell_type": "markdown",
     "metadata": {},
     "source": [
      "Next, let's iterate through `my_list2` and swap the first three items of `my_list` with `my_list2`'s items:"
     ]
    },
    {
     "cell_type": "code",
     "collapsed": false,
     "input": [
      "for i,item in enumerate(my_list2):  # iterate through my_list2 & list of integers\n",
      "    my_list[i] = item\n",
      "    \n",
      "my_list"
     ],
     "language": "python",
     "metadata": {},
     "outputs": [
      {
       "metadata": {},
       "output_type": "pyout",
       "prompt_number": 42,
       "text": [
        "['plotly', 'is', 'awesome', 6]"
       ]
      }
     ],
     "prompt_number": 42
    },
    {
     "cell_type": "markdown",
     "metadata": {},
     "source": [
      "Where `i` took the value of 0,1,2 and `item` iterated through `my_list2`. The optional second argument of `enumerate` is the starting value of the list of integers. For example, having `enumerate(my_list,1)` in the above code cell would have swap the last three items in `my_list`."
     ]
    },
    {
     "cell_type": "markdown",
     "metadata": {},
     "source": [
      "Although not frequently used in the User Guide, we present an example of while loop and if-else statements. So, starting from"
     ]
    },
    {
     "cell_type": "code",
     "collapsed": false,
     "input": [
      "my_list"
     ],
     "language": "python",
     "metadata": {},
     "outputs": [
      {
       "metadata": {},
       "output_type": "pyout",
       "prompt_number": 43,
       "text": [
        "['plotly', 'is', 'awesome', 6]"
       ]
      }
     ],
     "prompt_number": 43
    },
    {
     "cell_type": "code",
     "collapsed": false,
     "input": [
      "i = 0  # initialize counter\n",
      "\n",
      "while i < len(my_list):  # loop until end of my_list\n",
      "    if i == 0:\n",
      "        print('first element', my_list[i])           # print first element\n",
      "    elif my_list[i]=='awesome': \n",
      "        print('Thank you for using Plotly graphs!')  # print short message\n",
      "    else:\n",
      "        print(my_list)                               # print full list\n",
      "    i += 1             # increment counter by 1"
     ],
     "language": "python",
     "metadata": {},
     "outputs": [
      {
       "output_type": "stream",
       "stream": "stdout",
       "text": [
        "('first element', 'plotly')\n",
        "['plotly', 'is', 'awesome', 6]\n",
        "Thank you for using Plotly graphs!\n",
        "['plotly', 'is', 'awesome', 6]\n"
       ]
      }
     ],
     "prompt_number": 44
    },
    {
     "cell_type": "markdown",
     "metadata": {},
     "source": [
      "Note that, for most purposes, if-else constructs can be converted to key-value pairs in dictionaries. \n",
      "\n",
      "Finally, if needed, use the `continue` statement to skip to the next iteration and `break` to break out of the loop."
     ]
    },
    {
     "cell_type": "heading",
     "level": 3,
     "metadata": {},
     "source": [
      "A.6 List comprehension"
     ]
    },
    {
     "cell_type": "markdown",
     "metadata": {},
     "source": [
      "List comprehension a powerful way to build list by iterating through another. This technique is used extensively in the User Guide, so it is worthwhile to go through the subsequent examples. The list comprehension syntax could be slightly confusing at first; look at the following code thoughtfully."
     ]
    },
    {
     "cell_type": "code",
     "collapsed": false,
     "input": [
      "x = range(10)             # list of integer\n",
      "y = [xx**2 for xx in x]   # iterate through x, square every item, built list\n",
      "\n",
      "y"
     ],
     "language": "python",
     "metadata": {},
     "outputs": [
      {
       "metadata": {},
       "output_type": "pyout",
       "prompt_number": 45,
       "text": [
        "[0, 1, 4, 9, 16, 25, 36, 49, 64, 81]"
       ]
      }
     ],
     "prompt_number": 45
    },
    {
     "cell_type": "markdown",
     "metadata": {},
     "source": [
      "It is probably best to read a list comprehension statement starting from the right. In the above, `x` looped through every item in `my_x`, each time being squared making up the item of `my_y`."
     ]
    },
    {
     "cell_type": "markdown",
     "metadata": {},
     "source": [
      "List comprehension works inside other Python objects such as dictionaries:"
     ]
    },
    {
     "cell_type": "code",
     "collapsed": false,
     "input": [
      "# Built list w/ list comprehension, link to key\n",
      "trace = dict(y=[xx**3 for xx in x])\n",
      "\n",
      "trace"
     ],
     "language": "python",
     "metadata": {},
     "outputs": [
      {
       "metadata": {},
       "output_type": "pyout",
       "prompt_number": 46,
       "text": [
        "{'y': [0, 1, 8, 27, 64, 125, 216, 343, 512, 729]}"
       ]
      }
     ],
     "prompt_number": 46
    },
    {
     "cell_type": "markdown",
     "metadata": {},
     "source": [
      "Or even,"
     ]
    },
    {
     "cell_type": "code",
     "collapsed": false,
     "input": [
      "# Use list comprehension to build list of dictionaries \n",
      "data = [dict(y=[xx**a for xx in x]) for a in range(5)] \n",
      "\n",
      "data"
     ],
     "language": "python",
     "metadata": {},
     "outputs": [
      {
       "metadata": {},
       "output_type": "pyout",
       "prompt_number": 47,
       "text": [
        "[{'y': [1, 1, 1, 1, 1, 1, 1, 1, 1, 1]},\n",
        " {'y': [0, 1, 2, 3, 4, 5, 6, 7, 8, 9]},\n",
        " {'y': [0, 1, 4, 9, 16, 25, 36, 49, 64, 81]},\n",
        " {'y': [0, 1, 8, 27, 64, 125, 216, 343, 512, 729]},\n",
        " {'y': [0, 1, 16, 81, 256, 625, 1296, 2401, 4096, 6561]}]"
       ]
      }
     ],
     "prompt_number": 47
    },
    {
     "cell_type": "markdown",
     "metadata": {},
     "source": [
      "List comprehension can incorporate if-else statements. For example,"
     ]
    },
    {
     "cell_type": "code",
     "collapsed": false,
     "input": [
      "# Iterate through my_x, square item if even\n",
      "y2 = [xx**2 for xx in x if xx%2==0]\n",
      "\n",
      "y2"
     ],
     "language": "python",
     "metadata": {},
     "outputs": [
      {
       "metadata": {},
       "output_type": "pyout",
       "prompt_number": 48,
       "text": [
        "[0, 4, 16, 36, 64]"
       ]
      }
     ],
     "prompt_number": 48
    },
    {
     "cell_type": "markdown",
     "metadata": {},
     "source": [
      "Or,"
     ]
    },
    {
     "cell_type": "code",
     "collapsed": false,
     "input": [
      "# Iterate through my_x, add 0 to my_y3 if x<5 add 1 if x>=5\n",
      "y3 = [0 if xx<5 else 1 for xx in x]  \n",
      "\n",
      "y3"
     ],
     "language": "python",
     "metadata": {},
     "outputs": [
      {
       "metadata": {},
       "output_type": "pyout",
       "prompt_number": 49,
       "text": [
        "[0, 0, 0, 0, 0, 1, 1, 1, 1, 1]"
       ]
      }
     ],
     "prompt_number": 49
    },
    {
     "cell_type": "markdown",
     "metadata": {},
     "source": [
      "Notice that the order of the `if` with respect to the `for` depends on whether there is an `else` clause associated with it."
     ]
    },
    {
     "cell_type": "heading",
     "level": 3,
     "metadata": {},
     "source": [
      "A.7 Numpy arrays"
     ]
    },
    {
     "cell_type": "markdown",
     "metadata": {},
     "source": [
      "The numpy module gives users access to numpy arrays and several computation tools.\n",
      "Numpy arrays are list-like objects intended for computational use. \n",
      "We first import `numpy`:"
     ]
    },
    {
     "cell_type": "code",
     "collapsed": false,
     "input": [
      "import numpy as np"
     ],
     "language": "python",
     "metadata": {},
     "outputs": [],
     "prompt_number": 50
    },
    {
     "cell_type": "markdown",
     "metadata": {},
     "source": [
      "Next, create a first numpy array:"
     ]
    },
    {
     "cell_type": "code",
     "collapsed": false,
     "input": [
      "my_array = np.array([1, 2, 3])\n",
      "\n",
      "my_array"
     ],
     "language": "python",
     "metadata": {},
     "outputs": [
      {
       "metadata": {},
       "output_type": "pyout",
       "prompt_number": 51,
       "text": [
        "array([1, 2, 3])"
       ]
      }
     ],
     "prompt_number": 51
    },
    {
     "cell_type": "markdown",
     "metadata": {},
     "source": [
      "Operations on a numpy array are made element by element (unlike for lists of numbers):"
     ]
    },
    {
     "cell_type": "code",
     "collapsed": false,
     "input": [
      "my_array+1, my_array*2, np.sin(my_array)"
     ],
     "language": "python",
     "metadata": {},
     "outputs": [
      {
       "metadata": {},
       "output_type": "pyout",
       "prompt_number": 52,
       "text": [
        "(array([2, 3, 4]),\n",
        " array([2, 4, 6]),\n",
        " array([ 0.84147098,  0.90929743,  0.14112001]))"
       ]
      }
     ],
     "prompt_number": 52
    },
    {
     "cell_type": "markdown",
     "metadata": {},
     "source": [
      "Numpy arrays are equipped with several useful methods such as:"
     ]
    },
    {
     "cell_type": "code",
     "collapsed": false,
     "input": [
      "my_array.shape, my_array.min(), my_array.max()"
     ],
     "language": "python",
     "metadata": {},
     "outputs": [
      {
       "metadata": {},
       "output_type": "pyout",
       "prompt_number": 53,
       "text": [
        "((3,), 1, 3)"
       ]
      }
     ],
     "prompt_number": 53
    },
    {
     "cell_type": "markdown",
     "metadata": {},
     "source": [
      "The numpy module also features some convienient array-generating functions:"
     ]
    },
    {
     "cell_type": "code",
     "collapsed": false,
     "input": [
      "# Linear space of 20 pts between 0 and 10\n",
      "my_array2 = np.linspace(0, 10, 20)\n",
      "\n",
      "my_array2"
     ],
     "language": "python",
     "metadata": {},
     "outputs": [
      {
       "metadata": {},
       "output_type": "pyout",
       "prompt_number": 54,
       "text": [
        "array([  0.        ,   0.52631579,   1.05263158,   1.57894737,\n",
        "         2.10526316,   2.63157895,   3.15789474,   3.68421053,\n",
        "         4.21052632,   4.73684211,   5.26315789,   5.78947368,\n",
        "         6.31578947,   6.84210526,   7.36842105,   7.89473684,\n",
        "         8.42105263,   8.94736842,   9.47368421,  10.        ])"
       ]
      }
     ],
     "prompt_number": 54
    },
    {
     "cell_type": "code",
     "collapsed": false,
     "input": [
      "# Sequence of numbers from 0 to 10 with step of 0.2,\n",
      "#   similar to range() but accepts non-integer steps\n",
      "my_array3 = np.arange(0, 10, 0.2)\n",
      "                                 \n",
      "my_array3"
     ],
     "language": "python",
     "metadata": {},
     "outputs": [
      {
       "metadata": {},
       "output_type": "pyout",
       "prompt_number": 55,
       "text": [
        "array([ 0. ,  0.2,  0.4,  0.6,  0.8,  1. ,  1.2,  1.4,  1.6,  1.8,  2. ,\n",
        "        2.2,  2.4,  2.6,  2.8,  3. ,  3.2,  3.4,  3.6,  3.8,  4. ,  4.2,\n",
        "        4.4,  4.6,  4.8,  5. ,  5.2,  5.4,  5.6,  5.8,  6. ,  6.2,  6.4,\n",
        "        6.6,  6.8,  7. ,  7.2,  7.4,  7.6,  7.8,  8. ,  8.2,  8.4,  8.6,\n",
        "        8.8,  9. ,  9.2,  9.4,  9.6,  9.8])"
       ]
      }
     ],
     "prompt_number": 55
    },
    {
     "cell_type": "markdown",
     "metadata": {},
     "source": [
      "Multi-dimensional arrays are created using nested list and a call to `np.array()`. Here is an example of a 2D array:"
     ]
    },
    {
     "cell_type": "code",
     "collapsed": false,
     "input": [
      "my_array4 = np.array([[1, 2, 3], [4, 5, 6]])\n",
      "\n",
      "my_array4"
     ],
     "language": "python",
     "metadata": {},
     "outputs": [
      {
       "metadata": {},
       "output_type": "pyout",
       "prompt_number": 56,
       "text": [
        "array([[1, 2, 3],\n",
        "       [4, 5, 6]])"
       ]
      }
     ],
     "prompt_number": 56
    },
    {
     "cell_type": "markdown",
     "metadata": {},
     "source": [
      "Items in a multi-dimensional array can be retrieved, like in a nested list, as:"
     ]
    },
    {
     "cell_type": "code",
     "collapsed": false,
     "input": [
      "my_array4[1][1]"
     ],
     "language": "python",
     "metadata": {},
     "outputs": [
      {
       "metadata": {},
       "output_type": "pyout",
       "prompt_number": 57,
       "text": [
        "5"
       ]
      }
     ],
     "prompt_number": 57
    },
    {
     "cell_type": "markdown",
     "metadata": {},
     "source": [
      "or as"
     ]
    },
    {
     "cell_type": "code",
     "collapsed": false,
     "input": [
      "my_array4[0,2]"
     ],
     "language": "python",
     "metadata": {},
     "outputs": [
      {
       "metadata": {},
       "output_type": "pyout",
       "prompt_number": 58,
       "text": [
        "3"
       ]
      }
     ],
     "prompt_number": 58
    },
    {
     "cell_type": "markdown",
     "metadata": {},
     "source": [
      "Moreover, numpy is equipped with several NaN (Not-a-Number) functions."
     ]
    },
    {
     "cell_type": "code",
     "collapsed": false,
     "input": [
      "my_array5 = np.array([[1, np.nan], [np.nan, 2]])\n",
      "\n",
      "my_array5"
     ],
     "language": "python",
     "metadata": {},
     "outputs": [
      {
       "metadata": {},
       "output_type": "pyout",
       "prompt_number": 59,
       "text": [
        "array([[  1.,  nan],\n",
        "       [ nan,   2.]])"
       ]
      }
     ],
     "prompt_number": 59
    },
    {
     "cell_type": "markdown",
     "metadata": {},
     "source": [
      "Then,"
     ]
    },
    {
     "cell_type": "code",
     "collapsed": false,
     "input": [
      "np.nanmin(my_array5), np.nanmax(my_array5)"
     ],
     "language": "python",
     "metadata": {},
     "outputs": [
      {
       "metadata": {},
       "output_type": "pyout",
       "prompt_number": 60,
       "text": [
        "(1.0, 2.0)"
       ]
      }
     ],
     "prompt_number": 60
    },
    {
     "cell_type": "markdown",
     "metadata": {},
     "source": [
      "Or,"
     ]
    },
    {
     "cell_type": "code",
     "collapsed": false,
     "input": [
      "np.isnan(my_array5)"
     ],
     "language": "python",
     "metadata": {},
     "outputs": [
      {
       "metadata": {},
       "output_type": "pyout",
       "prompt_number": 61,
       "text": [
        "array([[False,  True],\n",
        "       [ True, False]], dtype=bool)"
       ]
      }
     ],
     "prompt_number": 61
    },
    {
     "cell_type": "markdown",
     "metadata": {},
     "source": [
      "Finally, to concatenate numpy arrays, use"
     ]
    },
    {
     "cell_type": "code",
     "collapsed": false,
     "input": [
      "np.concatenate([my_array,my_array2[0:5]])"
     ],
     "language": "python",
     "metadata": {},
     "outputs": [
      {
       "metadata": {},
       "output_type": "pyout",
       "prompt_number": 62,
       "text": [
        "array([ 1.        ,  2.        ,  3.        ,  0.        ,  0.52631579,\n",
        "        1.05263158,  1.57894737,  2.10526316])"
       ]
      }
     ],
     "prompt_number": 62
    },
    {
     "cell_type": "heading",
     "level": 3,
     "metadata": {},
     "source": [
      "A.8 String manipulation"
     ]
    },
    {
     "cell_type": "markdown",
     "metadata": {},
     "source": [
      "Updating a Plotly graph object often requires manipulating lists of strings and/or numbers.\n",
      "For example, say you have a figure containing 4 subplots,"
     ]
    },
    {
     "cell_type": "code",
     "collapsed": false,
     "input": [
      "splts = range(1, 5)  # list of subplot number ids\n",
      "\n",
      "splts"
     ],
     "language": "python",
     "metadata": {},
     "outputs": [
      {
       "metadata": {},
       "output_type": "pyout",
       "prompt_number": 63,
       "text": [
        "[1, 2, 3, 4]"
       ]
      }
     ],
     "prompt_number": 63
    },
    {
     "cell_type": "markdown",
     "metadata": {},
     "source": [
      "For more information on Plotly subplots refer to <a href=\"https://plot.ly/python/overview#0.7-Subplots-and-version-1.0-other-additions\" target=\"_blank\">section 0</a> of the User Guide.\n",
      "\n",
      "We can get all 4 axes ids by converting the subplot number ids to strings:"
     ]
    },
    {
     "cell_type": "code",
     "collapsed": false,
     "input": [
      "axes_ids = []  # initialize list of axes ids\n",
      "\n",
      "for splt in splts:\n",
      "    axes_ids += [('x'+str(splt), 'y'+str(splt))]  # append list of tuples\n",
      "    \n",
      "axes_ids"
     ],
     "language": "python",
     "metadata": {},
     "outputs": [
      {
       "metadata": {},
       "output_type": "pyout",
       "prompt_number": 64,
       "text": [
        "[('x1', 'y1'), ('x2', 'y2'), ('x3', 'y3'), ('x4', 'y4')]"
       ]
      }
     ],
     "prompt_number": 64
    },
    {
     "cell_type": "markdown",
     "metadata": {},
     "source": [
      "Updating every '`xaxis'` key in a layout dictionary is a one-line operation when using the appropriate string manipulation,"
     ]
    },
    {
     "cell_type": "code",
     "collapsed": false,
     "input": [
      "# Loop through subplots, \n",
      "#   convert to string for layout key and 'title' value\n",
      "layout = {'xaxis{}'.format(splt): \n",
      "             {'title': 'X axis ' + str(splt)} for splt in splts}\n",
      "\n",
      "layout"
     ],
     "language": "python",
     "metadata": {},
     "outputs": [
      {
       "metadata": {},
       "output_type": "pyout",
       "prompt_number": 65,
       "text": [
        "{'xaxis1': {'title': 'X axis 1'},\n",
        " 'xaxis2': {'title': 'X axis 2'},\n",
        " 'xaxis3': {'title': 'X axis 3'},\n",
        " 'xaxis4': {'title': 'X axis 4'}}"
       ]
      }
     ],
     "prompt_number": 65
    },
    {
     "cell_type": "markdown",
     "metadata": {},
     "source": [
      "The `.format` string method converts the `subplot` iterate to a string placed at the position of the `{}` pair. Furthermore, notice that the list comprehension techniques can be extended to dictionaries as well. If more convenient for you, the following yields the same result:"
     ]
    },
    {
     "cell_type": "code",
     "collapsed": false,
     "input": [
      "layout = {\n",
      "    'xaxis{}'.format(splt): dict(\n",
      "        title='X axis '+str(splt)\n",
      "    ) \n",
      "    for splt in splts}\n",
      "\n",
      "layout"
     ],
     "language": "python",
     "metadata": {},
     "outputs": [
      {
       "metadata": {},
       "output_type": "pyout",
       "prompt_number": 66,
       "text": [
        "{'xaxis1': {'title': 'X axis 1'},\n",
        " 'xaxis2': {'title': 'X axis 2'},\n",
        " 'xaxis3': {'title': 'X axis 3'},\n",
        " 'xaxis4': {'title': 'X axis 4'}}"
       ]
      }
     ],
     "prompt_number": 66
    },
    {
     "cell_type": "markdown",
     "metadata": {},
     "source": [
      "But please note that\n",
      "\n",
      "    >>> layout = dict(\n",
      "            xaxis{}.format(splt)=dict(\n",
      "                title='X axis '+str(splt)\n",
      "            ) for splt in splts)\n",
      "\n",
      "would not work as expressions are not identifiers (recall the dict constructor only accepts <a href=\"https://docs.python.org/2/reference/lexical_analysis.html#identifiers\" target=\"_blank\">identifiers</a> on the left-hand side of the equals sign)."
     ]
    },
    {
     "cell_type": "markdown",
     "metadata": {},
     "source": [
      "String continuation from line to line is made with the `\\ ` character, numbers can be formatted using the `%` character and the appropriate conversion code. Here's an example:"
     ]
    },
    {
     "cell_type": "code",
     "collapsed": false,
     "input": [
      "mu = 75       # some numbers representing the\n",
      "sig = 6.7123  #  mean and the standard deviation\n",
      "\n",
      "# Formatted strings, 5 chars with 2 decimals and 5 chars with 3 decimals\n",
      "text = '\\\n",
      "<br><b>Mean</b>: %5.2f\\\n",
      "<br><b>Standard deviation</b>: %5.3f' % (mu, sig)\n",
      "\n",
      "text"
     ],
     "language": "python",
     "metadata": {},
     "outputs": [
      {
       "metadata": {},
       "output_type": "pyout",
       "prompt_number": 67,
       "text": [
        "'<br><b>Mean</b>: 75.00<br><b>Standard deviation</b>: 6.712'"
       ]
      }
     ],
     "prompt_number": 67
    },
    {
     "cell_type": "markdown",
     "metadata": {},
     "source": [
      "Refer to Python's <a href=\"https://docs.python.org/2/library/stdtypes.html#string-formatting-operations\" target=\"_blank\">official documentation</a> for more info (including the other conversion codes) on string formatting."
     ]
    },
    {
     "cell_type": "markdown",
     "metadata": {},
     "source": [
      "<hr>\n",
      "\n",
      "<h4 style=\"font-size:14pt;\">Go to\n",
      "\n",
      "[top of page](https://plot.ly/python/python-tutorial#) </h4>\n",
      "\n",
      "<h4 style=\"font-size:14pt;\">Go to User Guide's\n",
      "\n",
      "[homepage](https://plot.ly/python/user-guide) </h4>\n",
      "    \n",
      "<hr>\n",
      "\n",
      "<!-- **Go to** [next section](https://plot.ly/python/histograms-and-box-plots-tutorial) -->\n",
      "\n",
      "<!-- **Go to** [previous section](https://plot.ly/python/bar-charts-tutorial) -->"
     ]
    },
    {
     "cell_type": "markdown",
     "metadata": {},
     "source": [
      "<div style=\"float:right; \\\">\n",
      "    <img src=\"http://i.imgur.com/4vwuxdJ.png\" \n",
      " align=right style=\"float:right; margin-left: 5px; margin-top: -10px\" />\n",
      "</div>\n",
      "\n",
      "<h4>Got Questions or Feedback? </h4>\n",
      "\n",
      "About <a href=\"https://plot.ly\" target=\"_blank\">Plotly</a>\n",
      "\n",
      "* email: feedback@plot.ly \n",
      "* tweet: \n",
      "<a href=\"https://twitter.com/plotlygraphs\" target=\"_blank\">@plotlygraphs</a>\n",
      "\n",
      "About the <a href=\"https://github.com/plotly/python-user-guide\" target=\"_blank\">User Guide</a>\n",
      " \n",
      "* email: etienne@plot.ly\n",
      "* tweet: <a href=\"https://twitter.com/etpinard\" target=\"_blank\">@etpinard</a>\n",
      "\n",
      "<h4 style=\"margin-top:30px;\">Notebook styling ideas</h4>\n",
      "\n",
      "Big thanks to\n",
      "\n",
      "* <a href=\"http://nbviewer.ipython.org/github/CamDavidsonPilon/Probabilistic-Programming-and-Bayesian-Methods-for-Hackers/blob/master/Prologue/Prologue.ipynb\" target=\"_blank\">Cam Davidson-Pilon</a>\n",
      "* <a href=\"http://lorenabarba.com/blog/announcing-aeropython/#.U1ULXdX1LJ4.google_plusone_share\" target=\"_blank\">Lorena A. Barba</a>\n",
      "\n",
      "<br>"
     ]
    },
    {
     "cell_type": "code",
     "collapsed": false,
     "input": [
      "# CSS styling within IPython notebook\n",
      "from IPython.display import display, HTML\n",
      "display(HTML(open('../custom.css').read()))"
     ],
     "language": "python",
     "metadata": {},
     "outputs": [
      {
       "html": [
        "<style>\n",
        "    div.cell{\n",
        "        width: 850px;\n",
        "        margin-left: 10% !important;\n",
        "        margin-right: auto;\n",
        "    }\n",
        "    h1 {\n",
        "        font-family: \"Open sans\",verdana,arial,sans-serif;\n",
        "    }\n",
        "    .text_cell_render h1 {\n",
        "        font-weight: 200;\n",
        "        font-size: 40pt;\n",
        "        line-height: 100%;\n",
        "        color:#447adb;\n",
        "        margin-bottom: 0em;\n",
        "        margin-top: 0em;\n",
        "        display: block;\n",
        "        white-space: nowrap;\n",
        "    } \n",
        "    h2 {\n",
        "        font-family: \"Open sans\",verdana,arial,sans-serif;\n",
        "        text-indent:1em;\n",
        "    }\n",
        "    .text_cell_render h2 {\n",
        "        font-weight: 200;\n",
        "        font-size: 20pt;\n",
        "        font-style: italic;\n",
        "        line-height: 100%;\n",
        "        color:#447adb;\n",
        "        margin-bottom: 1.5em;\n",
        "        margin-top: 0.5em;\n",
        "        display: block;\n",
        "        white-space: nowrap;\n",
        "    } \n",
        "    h3 {\n",
        "        font-family: \"Open sans\",verdana,arial,sans-serif;\n",
        "    }\n",
        "    .text_cell_render h3 {\n",
        "        font-weight: 300;\n",
        "        font-size: 18pt;\n",
        "        line-height: 100%;\n",
        "        color:#447adb;\n",
        "        margin-bottom: 0.5em;\n",
        "        margin-top: 2em;\n",
        "        display: block;\n",
        "        white-space: nowrap;\n",
        "    }\n",
        "    h4 {\n",
        "        font-family: \"Open sans\",verdana,arial,sans-serif;\n",
        "    }\n",
        "    .text_cell_render h4 {\n",
        "        font-weight: 300;\n",
        "        font-size: 16pt;\n",
        "        color:#447adb;\n",
        "        margin-bottom: 0.5em;\n",
        "        margin-top: 0.5em;\n",
        "        display: block;\n",
        "        white-space: nowrap;\n",
        "    }\n",
        "    h5 {\n",
        "        font-family: \"Open sans\",verdana,arial,sans-serif;\n",
        "    }\n",
        "    .text_cell_render h5 {\n",
        "        font-weight: 300;\n",
        "        font-style: normal;\n",
        "        color: #1d3b84;\n",
        "        font-size: 16pt;\n",
        "        margin-bottom: 0em;\n",
        "        margin-top: 1.5em;\n",
        "        display: block;\n",
        "        white-space: nowrap;\n",
        "    }\n",
        "    div.text_cell_render{\n",
        "        font-family: \"Open sans\",verdana,arial,sans-serif;\n",
        "        line-height: 135%;\n",
        "        font-size: 125%;\n",
        "        width:750px;\n",
        "        margin-left:auto;\n",
        "        margin-right:auto;\n",
        "        text-align:justify;\n",
        "        text-justify:inter-word;\n",
        "    }\n",
        "    div.output_subarea.output_text.output_pyout {\n",
        "        overflow-x: auto;\n",
        "        overflow-y: scroll;\n",
        "        max-height: 300px;\n",
        "    }\n",
        "    div.output_subarea.output_stream.output_stdout.output_text {\n",
        "        overflow-x: auto;\n",
        "        overflow-y: scroll;\n",
        "        max-height: 300px;\n",
        "    }\n",
        "    div.output_subarea.output_html.rendered_html {\n",
        "        overflow-x: scroll;\n",
        "        max-width: 100%;\n",
        "      /*  overflow-y: scroll; */\n",
        "      /*  max-height: 300px;   */\n",
        "    }\n",
        "    code{\n",
        "      font-size: 78%;\n",
        "    }\n",
        "    .rendered_html code{\n",
        "        background-color: transparent;\n",
        "        white-space: inherit;   \n",
        "    }\n",
        "    ul{\n",
        "        /* color:#447adb; */  \n",
        "        margin: 2em;\n",
        "    }\n",
        "    ul li{\n",
        "        padding-left: 0.5em; \n",
        "        margin-bottom: 0.5em; \n",
        "        margin-top: 0.5em; \n",
        "    }\n",
        "    ul li li{\n",
        "        padding-left: 0.2em; \n",
        "        margin-bottom: 0.2em; \n",
        "        margin-top: 0.2em; \n",
        "    }\n",
        "    ol{\n",
        "        /* color:#447adb; */  \n",
        "        margin: 2em;\n",
        "    }\n",
        "    ol li{\n",
        "        padding-left: 0.5em; \n",
        "        margin-bottom: 0.5em; \n",
        "        margin-top: 0.5em; \n",
        "    }\n",
        "    /*.prompt{\n",
        "        display: None;\n",
        "    } */\n",
        "    ul li{\n",
        "        padding-left: 0.5em; \n",
        "        margin-bottom: 0.5em; \n",
        "        margin-top: 0.2em; \n",
        "    }\n",
        "    a:link{\n",
        "       font-weight: bold;\n",
        "       color:#447adb;\n",
        "    }\n",
        "    a:visited{\n",
        "       font-weight: bold;\n",
        "       color: #1d3b84;\n",
        "    }\n",
        "    a:hover{\n",
        "       font-weight: bold;\n",
        "       color: #1d3b84;\n",
        "    }\n",
        "    a:focus{\n",
        "       font-weight: bold;\n",
        "       color:#447adb;\n",
        "    }\n",
        "    a:active{\n",
        "       font-weight: bold;\n",
        "       color:#447adb;\n",
        "    }\n",
        "    .rendered_html :link {\n",
        "       text-decoration: none; \n",
        "    }\n",
        "    .rendered_html :hover {\n",
        "       text-decoration: none; \n",
        "    }\n",
        "    .rendered_html :visited {\n",
        "      text-decoration: none;\n",
        "    }\n",
        "    .rendered_html :focus {\n",
        "      text-decoration: none;\n",
        "    }\n",
        "    .rendered_html :active {\n",
        "      text-decoration: none;\n",
        "    }\n",
        "    .warning{\n",
        "        color: rgb( 240, 20, 20 )\n",
        "    } \n",
        "    hr {\n",
        "      color: #f3f3f3;\n",
        "      background-color: #f3f3f3;\n",
        "      height: 1px;\n",
        "    }\n",
        "    blockquote{\n",
        "      display:block;\n",
        "      background: #f3f3f3;\n",
        "      font-family: \"Open sans\",verdana,arial,sans-serif;\n",
        "      width:610px;\n",
        "      padding: 15px 15px 15px 15px;\n",
        "      text-align:justify;\n",
        "      text-justify:inter-word;\n",
        "      }\n",
        "      blockquote p {\n",
        "        margin-bottom: 0;\n",
        "        line-height: 125%;\n",
        "        font-size: 100%;\n",
        "        text-align: center;\n",
        "      }\n",
        "   /* element.style {\n",
        "    } */  \n",
        "</style>\n",
        "<script>\n",
        "    MathJax.Hub.Config({\n",
        "                        TeX: {\n",
        "                           extensions: [\"AMSmath.js\"]\n",
        "                           },\n",
        "                tex2jax: {\n",
        "                    inlineMath: [ [\"$\",\"$\"], [\"\\\\(\",\"\\\\)\"] ],\n",
        "                    displayMath: [ [\"$$\",\"$$\"], [\"\\\\[\",\"\\\\]\"] ]\n",
        "                },\n",
        "                displayAlign: \"center\", // Change this to \"center\" to center equations.\n",
        "                \"HTML-CSS\": {\n",
        "                    styles: {\".MathJax_Display\": {\"margin\": 4}}\n",
        "                }\n",
        "        });\n",
        "</script>\n"
       ],
       "metadata": {},
       "output_type": "display_data",
       "text": [
        "<IPython.core.display.HTML at 0x7f15bfd68c10>"
       ]
      }
     ],
     "prompt_number": 68
    }
   ],
   "metadata": {}
  }
 ]
}