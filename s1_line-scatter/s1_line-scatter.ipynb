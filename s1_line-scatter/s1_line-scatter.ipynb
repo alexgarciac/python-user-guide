{
 "metadata": {
  "name": "",
  "signature": "sha256:4d75522f8d13a8ad3119ebd6f0977da21dc040adf31ac5dc86d436673ba15646"
 },
 "nbformat": 3,
 "nbformat_minor": 0,
 "worksheets": [
  {
   "cells": [
    {
     "cell_type": "heading",
     "level": 1,
     "metadata": {},
     "source": [
      "Plotly's Python API User Guide"
     ]
    },
    {
     "cell_type": "heading",
     "level": 2,
     "metadata": {},
     "source": [
      "Section 1: Line and Scatter Plots"
     ]
    },
    {
     "cell_type": "markdown",
     "metadata": {},
     "source": [
      "Welcome to Plotly's Python API User Guide. \n",
      "\n",
      "> Links to the other sections are on the User Guide's [homepage](https://plot.ly/python/user-guide#Table-of-Contents:) <br>\n",
      "The Github repository is available \n",
      "<a href=\"https://github.com/plotly/python-user-guide\" target=\"_blank\">here</a>"
     ]
    },
    {
     "cell_type": "markdown",
     "metadata": {},
     "source": [
      "Section 1 is divided as follows:\n",
      "\n",
      "* [1.1 Basic line and scatter plots](#1.1-Basic-line-and-scatter-plots)\n",
      "* [1.2 Style and layout options](#1.2-Style-and-layout-options)"
     ]
    },
    {
     "cell_type": "markdown",
     "metadata": {},
     "source": [
      "Quickstart (make a scatter plot of 3 red squares):\n",
      "  \n",
      "    >>> import plotly.plotly as py\n",
      "    >>> from plotly.graph_objs import *\n",
      "    >>> # auto sign-in with credentials or use py.sign_in()\n",
      "    >>> trace1 = Scatter(\n",
      "            x=[1, 2, 3],\n",
      "            y=[5, 6, 7],\n",
      "            mode='markers',\n",
      "            marker=Marker(\n",
      "                color='red',\n",
      "                symbol='square'\n",
      "            )\n",
      "        )\n",
      "    >>> data = Data([trace1])\n",
      "    >>> py.plot(data)\n",
      "\n",
      "<hr>"
     ]
    },
    {
     "cell_type": "markdown",
     "metadata": {},
     "source": [
      "Check which version is installed on your machine and please upgrade if needed. "
     ]
    },
    {
     "cell_type": "code",
     "collapsed": false,
     "input": [
      "# (*) Import plotly package\n",
      "import plotly\n",
      "\n",
      "# Check plolty version (if not latest, please upgrade)\n",
      "plotly.__version__"
     ],
     "language": "python",
     "metadata": {},
     "outputs": [
      {
       "metadata": {},
       "output_type": "pyout",
       "prompt_number": 1,
       "text": [
        "'1.6.6'"
       ]
      }
     ],
     "prompt_number": 1
    },
    {
     "cell_type": "markdown",
     "metadata": {},
     "source": [
      "See the User Guide's <a href=\"https://plot.ly/python/user-guide#Installation-guidelines\" target=\"_blank\">homepage</a> for more info on installation and upgrading. "
     ]
    },
    {
     "cell_type": "markdown",
     "metadata": {},
     "source": [
      "<hr>\n",
      "\n",
      "In this section, we cover line and scatter plots in Plotly. All datasets used in this section, are taken from the Plotly servers showcasing Plotly's Python API `get_figure()` function, introduced in <a href=\"https://plot.ly/python/overview#0.6-Get-figure-and-new-possible-workflows\" target=\"_blank\">section 0</a>, once more as well as presenting a hall of fame of Plotly datasets.\n",
      "Additionally, we learn about:\n",
      "\n",
      "* [Saving figures made from the API](#Saving-figures-made-from-the-API)\n",
      "* [Import and share your plots](#Import-and-share-your-plots)\n",
      "* [Color models in Plotly](#-2--Color-models)"
     ]
    },
    {
     "cell_type": "markdown",
     "metadata": {},
     "source": [
      "We first import a few modules and sign in to Plotly using our credentials file:"
     ]
    },
    {
     "cell_type": "code",
     "collapsed": false,
     "input": [
      "# (*) To communicate with Plotly's server, sign in with credentials file\n",
      "import plotly.plotly as py  \n",
      "\n",
      "# (*) Useful Python/Plotly tools\n",
      "import plotly.tools as tls   \n",
      "\n",
      "# (*) Graph objects to piece together plots\n",
      "from plotly.graph_objs import *\n",
      "\n",
      "import numpy as np  # (*) numpy for math functions and arrays"
     ],
     "language": "python",
     "metadata": {},
     "outputs": [],
     "prompt_number": 2
    },
    {
     "cell_type": "markdown",
     "metadata": {},
     "source": [
      "If you are not familiar with credentials files, refer to the User Guide's  <a href=\"https://plot.ly/python/user-guide#Step-6\" target=\"_blank\">homepage</a>.\n",
      "\n",
      "Recall that, while being imported, the `plotly.plotly` module looks for your credentials file on your machine and automatically uses it to sign in to Plotly's servers. If more convenient, users can still manually sign in to Plotly by typing:\n",
      "\n",
      "    >>> py.sign_in('your_username','your_api_key')\n",
      "    \n",
      "Once you are signed in, you do not need to communicate your username nor your API key to Plotly again in the current Python/IPython session."
     ]
    },
    {
     "cell_type": "heading",
     "level": 3,
     "metadata": {},
     "source": [
      "1.1 Basic line and scatter plots"
     ]
    },
    {
     "cell_type": "markdown",
     "metadata": {},
     "source": [
      "For our first plot in this section, we use data from this <a href=\"http://qz.com/\" target=\"_blank\">Quartz</a> graph:"
     ]
    },
    {
     "cell_type": "code",
     "collapsed": false,
     "input": [
      "# Embed Plotly graph in notebook\n",
      "#   Quartz is username of the graph's maker,\n",
      "#   7 is the graph's unique id number\n",
      "tls.embed('Quartz', '7')\n",
      "\n",
      "# Or any of:\n",
      "# tls.embed('Quartz', 7)\n",
      "# tls.embed('https://plot.ly/~Quartz/7')"
     ],
     "language": "python",
     "metadata": {},
     "outputs": [
      {
       "html": [
        "<iframe id=\"igraph\" scrolling=\"no\" style=\"border:none;\"seamless=\"seamless\" src=\"https://plot.ly/~Quartz/7.embed\" height=\"525\" width=\"100%\"></iframe>"
       ],
       "metadata": {},
       "output_type": "pyout",
       "prompt_number": 3,
       "text": [
        "<plotly.tools.PlotlyDisplay at 0x7f3e40961b50>"
       ]
      }
     ],
     "prompt_number": 3
    },
    {
     "cell_type": "markdown",
     "metadata": {},
     "source": [
      "The above graph was featured in this Quartz <a href=\"http://qz.com/187350/six-charts-that-show-why-china-is-competing-with-the-multinationals-it-used-to-work-for/\" target=\"_blank\">story</a>."
     ]
    },
    {
     "cell_type": "markdown",
     "metadata": {},
     "source": [
      "Our first plot will present that the data using lines and points instead of bars (more on Plotly bar charts in <a href=\"https://plot.ly/python/bar-charts-tutorial\" target=\"_blank\">section 2</a>).\n",
      "As we will see, Plotly's syntax makes converting a graph from one plot type to another a breeze.\n",
      "\n",
      "So first, pull down the figure object from Plotly's servers into this IPython session using the `get_figure` function:"
     ]
    },
    {
     "cell_type": "code",
     "collapsed": false,
     "input": [
      "# Get figure object from Plotly's servers\n",
      "#   Quartz is username of the graph's maker,\n",
      "#   7 is the graph's unique id number (either a string or an integer)\n",
      "Quartz7 = py.get_figure('Quartz', '7')"
     ],
     "language": "python",
     "metadata": {},
     "outputs": [],
     "prompt_number": 4
    },
    {
     "cell_type": "code",
     "collapsed": false,
     "input": [
      "print(Quartz7.to_string())  # print in notebook"
     ],
     "language": "python",
     "metadata": {},
     "outputs": [
      {
       "output_type": "stream",
       "stream": "stdout",
       "text": [
        "Figure(\n",
        "    data=Data([\n",
        "        Bar(\n",
        "            x=[u'2001', u'2002', u'2003', u'2004', u'2005', u'2006', u'2..', ],\n",
        "            y=[u'1.1', u'1.5', u'2.1', u'2.8', u'3.4', u'4.1', u'5.0', '..'  ],\n",
        "            name=u'China',\n",
        "            marker=Marker(\n",
        "                color=u'rgb(222, 113, 88)'\n",
        "            )\n",
        "        ),\n",
        "        Bar(\n",
        "            x=[u'2001', u'2002', u'2003', u'2004', u'2005', u'2006', u'2..', ],\n",
        "            y=[u'1.3', u'1.2', u'1.3', u'1.4', u'1.5', u'1.5', u'1.5', '..'  ],\n",
        "            name=u'U.S.',\n",
        "            marker=Marker(\n",
        "                color=u'rgb(84, 172, 234)'\n",
        "            )\n",
        "        )\n",
        "    ]),\n",
        "    layout=Layout(\n",
        "        title=u'<br> #OF UNIVERSITY GRADUATES IN CHINA VS. U.S. (MILLIONS)',\n",
        "        titlefont=Font(\n",
        "            family=u'',\n",
        "            size=0,\n",
        "            color=u''\n",
        "        ),\n",
        "        font=Font(\n",
        "            family=u\"'Open sans', verdana, arial, sans-serif\",\n",
        "            size=12,\n",
        "            color=u'rgb(33, 33, 33)'\n",
        "        ),\n",
        "        showlegend=True,\n",
        "        autosize=False,\n",
        "        width=700,\n",
        "        height=400,\n",
        "        xaxis=XAxis(\n",
        "            title=u\"<i>Data: Solidiance's Analysis</i>\",\n",
        "            titlefont=Font(\n",
        "                family=u'',\n",
        "                size=0,\n",
        "                color=u''\n",
        "            ),\n",
        "            range=[2000.5, 2014.1492895382241],\n",
        "            domain=[0, 1],\n",
        "            type=u'linear',\n",
        "            rangemode=u'normal',\n",
        "            autorange=True,\n",
        "            showgrid=False,\n",
        "            zeroline=False,\n",
        "            showline=True,\n",
        "            autotick=True,\n",
        "            nticks=17,\n",
        "            ticks=u'',\n",
        "            showticklabels=True,\n",
        "            tick0=2001,\n",
        "            dtick=1,\n",
        "            ticklen=5,\n",
        "            tickwidth=1,\n",
        "            tickcolor=u'#000',\n",
        "            tickangle=u'auto',\n",
        "            tickfont=Font(\n",
        "                family=u'',\n",
        "                size=0,\n",
        "                color=u''\n",
        "            ),\n",
        "            exponentformat=u'e',\n",
        "            showexponent=u'all',\n",
        "            mirror=False,\n",
        "            gridcolor=u'#ddd',\n",
        "            gridwidth=1,\n",
        "            zerolinecolor=u'#000',\n",
        "            zerolinewidth=1,\n",
        "            linecolor=u'#000',\n",
        "            linewidth=1,\n",
        "            anchor=u'y',\n",
        "            overlaying=False,\n",
        "            position=0\n",
        "        ),\n",
        "        yaxis=YAxis(\n",
        "            title=u'',\n",
        "            titlefont=Font(\n",
        "                family=u'',\n",
        "                size=0,\n",
        "                color=u''\n",
        "            ),\n",
        "            range=[0, 8.1],\n",
        "            domain=[0, 1],\n",
        "            type=u'linear',\n",
        "            rangemode=u'nonnegative',\n",
        "            autorange=False,\n",
        "            showgrid=True,\n",
        "            zeroline=False,\n",
        "            showline=True,\n",
        "            autotick=True,\n",
        "            nticks=0,\n",
        "            ticks=u'',\n",
        "            showticklabels=True,\n",
        "            tick0=0,\n",
        "            dtick=2,\n",
        "            ticklen=5,\n",
        "            tickwidth=1,\n",
        "            tickcolor=u'#000',\n",
        "            tickangle=u'auto',\n",
        "            tickfont=Font(\n",
        "                family=u'',\n",
        "                size=0,\n",
        "                color=u''\n",
        "            ),\n",
        "            exponentformat=u'e',\n",
        "            showexponent=u'all',\n",
        "            mirror=False,\n",
        "            gridcolor=u'#ddd',\n",
        "            gridwidth=1,\n",
        "            zerolinecolor=u'#000',\n",
        "            zerolinewidth=1,\n",
        "            linecolor=u'#000',\n",
        "            linewidth=1,\n",
        "            anchor=u'x',\n",
        "            overlaying=False,\n",
        "            position=0\n",
        "        ),\n",
        "        legend=Legend(\n",
        "            x=0.001851851851851852,\n",
        "            y=0.9863636363636363,\n",
        "            traceorder=u'normal',\n",
        "            font=Font(\n",
        "                family=u'',\n",
        "                size=0,\n",
        "                color=u''\n",
        "            ),\n",
        "            bgcolor=u'rgba(255, 255, 255, 0)',\n",
        "            bordercolor=u'rgba(0, 0, 0, 0)',\n",
        "            borderwidth=1,\n",
        "            xanchor=u'auto',\n",
        "            yanchor=u'auto'\n",
        "        ),\n",
        "        annotations=Annotations([\n",
        "            Annotation(\n",
        "                x=2001.7,\n",
        "                y=2.4299999999999997,\n",
        "                xref=u'x',\n",
        "                yref=u'y',\n",
        "                text=u'Source: <a href=\"http://qz.com/187350/six-charts-tha..',\n",
        "                showarrow=True,\n",
        "                font=Font(\n",
        "                    family=u'',\n",
        "                    size=0,\n",
        "                    color=u''\n",
        "                ),\n",
        "                xanchor=u'auto',\n",
        "                yanchor=u'auto',\n",
        "                align=u'center',\n",
        "                arrowhead=1,\n",
        "                arrowsize=1,\n",
        "                arrowwidth=0,\n",
        "                arrowcolor=u'rgba(0, 0, 0, 0)',\n",
        "                ax=446,\n",
        "                ay=114.98332977294922,\n",
        "                textangle=0,\n",
        "                bordercolor=u'',\n",
        "                borderwidth=1,\n",
        "                borderpad=1,\n",
        "                bgcolor=u'rgba(0,0,0,0)',\n",
        "                opacity=1\n",
        "            )\n",
        "        ]),\n",
        "        margin=Margin(\n",
        "            l=80,\n",
        "            r=80,\n",
        "            b=80,\n",
        "            t=100,\n",
        "            pad=0,\n",
        "            autoexpand=True\n",
        "        ),\n",
        "        paper_bgcolor=u'#fff',\n",
        "        plot_bgcolor=u'#fff',\n",
        "        hovermode=u'x',\n",
        "        dragmode=u'zoom',\n",
        "        separators=u'.,',\n",
        "        barmode=u'group',\n",
        "        bargap=0.1,\n",
        "        bargroupgap=0.15,\n",
        "        boxmode=u'overlay',\n",
        "        boxgap=0.3,\n",
        "        boxgroupgap=0.3,\n",
        "        hidesources=False\n",
        "    )\n",
        ")\n"
       ]
      }
     ],
     "prompt_number": 5
    },
    {
     "cell_type": "markdown",
     "metadata": {},
     "source": [
      "Recall that a Plotly figure object is divided into a data object (storing data and style options associated with each trace) and a layout object (storing information associated with the axes, legend, annotations and other layout features).\n",
      "\n",
      "In this case, here, the data object contains two bar objects: one with data for China and one with data for the USA.\n",
      "\n",
      "> Data objects are list-like, the ordering determines the order at which the individual traces are plotted. This has an impact on a graph's appearance if two or more traces have overlapping coordinates. By virtue of the ordering, the last trace listed in the data object appears in the foreground.\n",
      "\n",
      "So, take note that in the `Quartz7` figure object, the trace corresponding to China's numbers is the first item in the data object.\n",
      "\n",
      "Now, using the `get_data()` figure object method, retrieve the data from the figure object:"
     ]
    },
    {
     "cell_type": "code",
     "collapsed": false,
     "input": [
      "# Retrieve data from figure object (get a dictionary in return)\n",
      "Quartz7_data = Quartz7.get_data()\n",
      "\n",
      "Quartz7_data   # show in notebook"
     ],
     "language": "python",
     "metadata": {},
     "outputs": [
      {
       "metadata": {},
       "output_type": "pyout",
       "prompt_number": 6,
       "text": [
        "{'data': [{'name': u'China',\n",
        "   'x': [u'2001',\n",
        "    u'2002',\n",
        "    u'2003',\n",
        "    u'2004',\n",
        "    u'2005',\n",
        "    u'2006',\n",
        "    u'2007',\n",
        "    u'2008',\n",
        "    u'2009',\n",
        "    u'2010',\n",
        "    u'2011',\n",
        "    u'2012'],\n",
        "   'y': [u'1.1',\n",
        "    u'1.5',\n",
        "    u'2.1',\n",
        "    u'2.8',\n",
        "    u'3.4',\n",
        "    u'4.1',\n",
        "    u'5.0',\n",
        "    u'5.6',\n",
        "    u'6.1',\n",
        "    u'6.3',\n",
        "    u'6.6',\n",
        "    u'6.8']},\n",
        "  {'name': u'U.S.',\n",
        "   'x': [u'2001',\n",
        "    u'2002',\n",
        "    u'2003',\n",
        "    u'2004',\n",
        "    u'2005',\n",
        "    u'2006',\n",
        "    u'2007',\n",
        "    u'2008',\n",
        "    u'2009',\n",
        "    u'2010',\n",
        "    u'2011',\n",
        "    u'2012'],\n",
        "   'y': [u'1.3',\n",
        "    u'1.2',\n",
        "    u'1.3',\n",
        "    u'1.4',\n",
        "    u'1.5',\n",
        "    u'1.5',\n",
        "    u'1.5',\n",
        "    u'1.6',\n",
        "    u'1.6',\n",
        "    u'1.7',\n",
        "    u'1.7',\n",
        "    u'1.8']}],\n",
        " 'layout': [{}]}"
       ]
      }
     ],
     "prompt_number": 6
    },
    {
     "cell_type": "markdown",
     "metadata": {},
     "source": [
      "`Quartz7_data` is a dictionary, not a Python graph object (try running `type(Quartz7_data)` to see it yourself).\n",
      "\n",
      "Notice that both traces' `'name'` keys and their associated values are part of the `Quartz7_data` dictionary. Values linked to `'name'` are the labels in the legend. They also appear on hover next to the scatter points' coordinates. \n",
      "\n",
      "More clearly, the two items in the list of traces are:"
     ]
    },
    {
     "cell_type": "code",
     "collapsed": false,
     "input": [
      "Quartz7_data['data'][0]  # show dictionary associated with data for China"
     ],
     "language": "python",
     "metadata": {},
     "outputs": [
      {
       "metadata": {},
       "output_type": "pyout",
       "prompt_number": 7,
       "text": [
        "{'name': u'China',\n",
        " 'x': [u'2001',\n",
        "  u'2002',\n",
        "  u'2003',\n",
        "  u'2004',\n",
        "  u'2005',\n",
        "  u'2006',\n",
        "  u'2007',\n",
        "  u'2008',\n",
        "  u'2009',\n",
        "  u'2010',\n",
        "  u'2011',\n",
        "  u'2012'],\n",
        " 'y': [u'1.1',\n",
        "  u'1.5',\n",
        "  u'2.1',\n",
        "  u'2.8',\n",
        "  u'3.4',\n",
        "  u'4.1',\n",
        "  u'5.0',\n",
        "  u'5.6',\n",
        "  u'6.1',\n",
        "  u'6.3',\n",
        "  u'6.6',\n",
        "  u'6.8']}"
       ]
      }
     ],
     "prompt_number": 7
    },
    {
     "cell_type": "code",
     "collapsed": false,
     "input": [
      "Quartz7_data['data'][1]  # show dictionary associated with data for the USA"
     ],
     "language": "python",
     "metadata": {},
     "outputs": [
      {
       "metadata": {},
       "output_type": "pyout",
       "prompt_number": 8,
       "text": [
        "{'name': u'U.S.',\n",
        " 'x': [u'2001',\n",
        "  u'2002',\n",
        "  u'2003',\n",
        "  u'2004',\n",
        "  u'2005',\n",
        "  u'2006',\n",
        "  u'2007',\n",
        "  u'2008',\n",
        "  u'2009',\n",
        "  u'2010',\n",
        "  u'2011',\n",
        "  u'2012'],\n",
        " 'y': [u'1.3',\n",
        "  u'1.2',\n",
        "  u'1.3',\n",
        "  u'1.4',\n",
        "  u'1.5',\n",
        "  u'1.5',\n",
        "  u'1.5',\n",
        "  u'1.6',\n",
        "  u'1.6',\n",
        "  u'1.7',\n",
        "  u'1.7',\n",
        "  u'1.8']}"
       ]
      }
     ],
     "prompt_number": 8
    },
    {
     "cell_type": "markdown",
     "metadata": {},
     "source": [
      "Our task now is to placed the dictionaries associated with data for China and data for the USA inside two different instances of the scatter object.\n",
      "\n",
      "Before doing so, we call help on `Scatter` (from `plotly.graph_objs`):"
     ]
    },
    {
     "cell_type": "code",
     "collapsed": false,
     "input": [
      "help(Scatter)  # call help!\n",
      "\n",
      "# notice 'mode'"
     ],
     "language": "python",
     "metadata": {},
     "outputs": [
      {
       "output_type": "stream",
       "stream": "stdout",
       "text": [
        "Help on class Scatter in module plotly.graph_objs.graph_objs:\n",
        "\n",
        "class Scatter(PlotlyTrace)\n",
        " |  A dictionary-like object for representing a scatter trace in plotly.\n",
        " |  \n",
        " |  Example:\n",
        " |  \n",
        " |      >>> py.plot([Scatter(name='tacters', x=[1,4,2,3], y=[1,6,2,1])])\n",
        " |  \n",
        " |  Online examples:\n",
        " |  \n",
        " |      https://plot.ly/python/line-and-scatter/\n",
        " |      https://plot.ly/python/bubble-charts/\n",
        " |      https://plot.ly/python/filled-area-plots/\n",
        " |      https://plot.ly/python/time-series/\n",
        " |  \n",
        " |  Quick method reference:\n",
        " |  \n",
        " |      Scatter.update(changes)\n",
        " |      Scatter.strip_style()\n",
        " |      Scatter.get_data()\n",
        " |      Scatter.to_graph_objs()\n",
        " |      Scatter.validate()\n",
        " |      Scatter.to_string()\n",
        " |      Scatter.force_clean()\n",
        " |  \n",
        " |  Valid keys:\n",
        " |  \n",
        " |      x [required= when 'y','r' and 't' are unset] (value=list or 1d numpy\n",
        " |      array of numbers, strings, datetimes) (streamable):\n",
        " |          Sets the x coordinates of the points of this scatter trace. If 'x'\n",
        " |          is linked to a list or 1d numpy array of strings, then the x\n",
        " |          coordinates are integers, 0, 1, 2, 3, ..., labeled on the x-axis by\n",
        " |          the list or 1d numpy array of strings linked to 'x'.\n",
        " |  \n",
        " |      y [required= when 'x','r' and 't' are unset] (value=list or 1d numpy\n",
        " |      array of numbers, strings, datetimes) (streamable):\n",
        " |          Sets the y coordinates of the points of this scatter trace. If 'y'\n",
        " |          is linked to a list or 1d numpy array of strings, then the y\n",
        " |          coordinates are integers, 0, 1, 2, 3, ..., labeled on the y-axis by\n",
        " |          the list or 1d numpy array of strings linked to 'y'.\n",
        " |  \n",
        " |      r [required= when making a Polar Chart] (value=list or 1d numpy array of\n",
        " |      numbers) (streamable):\n",
        " |          For Polar charts only. Sets the radial coordinates of the points in\n",
        " |          this polar scatter trace about the origin.\n",
        " |  \n",
        " |      t [required= when making a Polar Chart] (value=list or 1d numpy array of\n",
        " |      numbers, strings, datetimes) (streamable):\n",
        " |          For Polar charts only. Sets the angular coordinates of the points in\n",
        " |          this polar scatter trace. By default, the angular coordinates are in\n",
        " |          degrees (0 to 360) where the angles are measured clockwise about the\n",
        " |          right-hand side of the origin. To change this behavior, modify\n",
        " |          'range' in 'angularaxis' or/and 'direction' in 'layout'. If 't' is\n",
        " |          linked to a list or 1d numpy array of strings, then the angular\n",
        " |          coordinates are 0, 360\\N, 2*360/N, ... where N is the number of\n",
        " |          coordinates given labeled by the list or 1d numpy array of strings\n",
        " |          linked to 't'.\n",
        " |  \n",
        " |      mode [required=False] (value='lines' | 'markers' | 'text' |\n",
        " |      'lines+markers' | 'lines+text' | 'markers+text' | 'lines+markers+text'):\n",
        " |          Plotting mode for this scatter trace. If the mode includes 'text'\n",
        " |          then the 'text' will appear at the (x,y) points, otherwise it will\n",
        " |          appear on hover.\n",
        " |  \n",
        " |      name [required=False] (value=a string):\n",
        " |          The label associated with this trace. This name will appear in the\n",
        " |          legend, on hover and in the column header in the online spreadsheet.\n",
        " |  \n",
        " |      text [required=False] (value=list or 1d numpy array of strings)\n",
        " |      (streamable):\n",
        " |          The text elements associated with each (x,y) pair in this scatter\n",
        " |          trace. If the scatter 'mode' does not include 'text' then elements\n",
        " |          linked to 'text' will appear on hover only. In contrast, if 'text'\n",
        " |          is included in 'mode', the elements in 'text' will be rendered on\n",
        " |          the plot at the locations specified in part by their corresponding\n",
        " |          (x,y) coordinate pair and the 'textposition' key.\n",
        " |  \n",
        " |      error_y [required=False] (value=ErrorY object | dictionary-like object)\n",
        " |      (streamable):\n",
        " |          Links a dictionary-like object describing the vertical error bars\n",
        " |          (i.e. along the y-axis) that can be drawn from the (x,y) coordinates\n",
        " |          of this scatter trace.\n",
        " |  \n",
        " |          For more, run `help(plotly.graph_objs.ErrorY)`\n",
        " |  \n",
        " |      error_x [required=False] (value=ErrorX object | dictionary-like object)\n",
        " |      (streamable):\n",
        " |          Links a dictionary-like object describing the horizontal error bars\n",
        " |          (i.e. along the x-axis) that can be drawn from the (x,y) coordinates\n",
        " |          of this scatter trace.\n",
        " |  \n",
        " |          For more, run `help(plotly.graph_objs.ErrorX)`\n",
        " |  \n",
        " |      marker [required=False] (value=Marker object | dictionary-like object)\n",
        " |      (streamable):\n",
        " |          Links a dictionary-like object containing marker style parameters\n",
        " |          for this scatter trace. Has an effect only if 'mode' contains\n",
        " |          'markers'.\n",
        " |  \n",
        " |          For more, run `help(plotly.graph_objs.Marker)`\n",
        " |  \n",
        " |      line [required=False] (value=Line object | dictionary-like object)\n",
        " |      (streamable):\n",
        " |          Links a dictionary-like object containing line parameters for this\n",
        " |          scatter trace. Has an effect only if 'mode' contains 'lines'.\n",
        " |  \n",
        " |          For more, run `help(plotly.graph_objs.Line)`\n",
        " |  \n",
        " |      textposition [required=False] (value='top left' | 'top' (or 'top\n",
        " |      center')| 'top right' | 'left' (or 'middle left') | '' (or 'middle\n",
        " |      center') | 'right' (or 'middle right') | 'bottom left' | 'bottom' (or\n",
        " |      'bottom center') | 'bottom right'):\n",
        " |          Sets the position of the text elements in the 'text' key with\n",
        " |          respect to the data points. By default, the text elements are\n",
        " |          plotted directly at the (x,y) coordinates.\n",
        " |  \n",
        " |      textfont [required=False] (value=Font object | dictionary-like object):\n",
        " |          Links a dictionary-like object describing the font style of this\n",
        " |          scatter trace's text elements. Has only an effect if 'mode' is set\n",
        " |          and includes 'text'.\n",
        " |  \n",
        " |          For more, run `help(plotly.graph_objs.Font)`\n",
        " |  \n",
        " |      connectgaps [required=False] (value=a boolean: True | False):\n",
        " |          Toggle whether or not missing data points (i.e. '' or numpy.nan)\n",
        " |          linked to 'x' and/or 'y', are added in by Plotly using linear\n",
        " |          interpolation.\n",
        " |  \n",
        " |      fill [required=False] (value='none' | 'tozeroy' | 'tonexty' | 'tozerox'\n",
        " |      | 'tonextx):\n",
        " |          Use to make area-style charts. Determines which area to fill with a\n",
        " |          solid color.By default, the area will appear in a more-transparent\n",
        " |          shape of the line color (or of the marker color if 'mode' does not\n",
        " |          contains 'lines').\n",
        " |  \n",
        " |      fillcolor [required=False] (value=a string describing color):\n",
        " |          Sets the color that will appear in the specified fill area (set in\n",
        " |          'fill'). Has no effect if 'fill' is set to 'none'.\n",
        " |  \n",
        " |          Examples:\n",
        " |              'green' | 'rgb(0, 255, 0)' | 'rgba(0, 255, 0, 0.3)' |\n",
        " |              'hsl(120,100%,50%)' | 'hsla(120,100%,50%,0.3)' | '#434F1D'\n",
        " |  \n",
        " |      opacity [required=False] (value=number: x in [0, 1]):\n",
        " |          Sets the opacity, or transparency, of the entire object, also known\n",
        " |          as the alpha channel of colors. If the object's color is given in\n",
        " |          terms of 'rgba' color model, 'opacity' is redundant.\n",
        " |  \n",
        " |      xaxis [required=False] (value='x1' | 'x2' | 'x3' | etc.):\n",
        " |          This key determines which x-axis the x-coordinates of this trace\n",
        " |          will reference in the figure.  Values 'x1' and 'x' reference to\n",
        " |          'xaxis' in 'layout', 'x2' references to 'xaxis2' in 'layout', and so\n",
        " |          on. Note that 'x1' will always refer to 'xaxis' or 'xaxis1' in\n",
        " |          'layout', they are the same.\n",
        " |  \n",
        " |      yaxis [required=False] (value='y1' | 'y2' | 'y3' | etc.):\n",
        " |          This key determines which y-axis the y-coordinates of this trace\n",
        " |          will reference in the figure.  Values 'y1' and 'y' reference to\n",
        " |          'yaxis' in 'layout', 'y2' references to 'yaxis2' in 'layout', and so\n",
        " |          on. Note that 'y1' will always refer to 'yaxis' or 'yaxis1' in\n",
        " |          'layout', they are the same.\n",
        " |  \n",
        " |      showlegend [required=False] (value=a boolean: True | False):\n",
        " |          Toggle whether or not this trace will be labeled in the legend.\n",
        " |  \n",
        " |      stream [required=False] (value=Stream object | dictionary-like object):\n",
        " |          Links a dictionary-like object that initializes this trace as a\n",
        " |          writable-stream, for use with the streaming API.\n",
        " |  \n",
        " |          For more, run `help(plotly.graph_objs.Stream)`\n",
        " |  \n",
        " |      visible [required=False] (value=a boolean: True | False):\n",
        " |          Toggles whether or not this object will be visible on the rendered\n",
        " |          figure.\n",
        " |  \n",
        " |      xsrc [required= when 'y','r' and 't' are unset] (value=a string equal to\n",
        " |      the unique identifier of a plotly grid column) (streamable):\n",
        " |          Sets the x coordinates of the points of this scatter trace. If 'x'\n",
        " |          is linked to a list or 1d numpy array of strings, then the x\n",
        " |          coordinates are integers, 0, 1, 2, 3, ..., labeled on the x-axis by\n",
        " |          the list or 1d numpy array of strings linked to 'x'.\n",
        " |  \n",
        " |      ysrc [required= when 'x','r' and 't' are unset] (value=a string equal to\n",
        " |      the unique identifier of a plotly grid column) (streamable):\n",
        " |          Sets the y coordinates of the points of this scatter trace. If 'y'\n",
        " |          is linked to a list or 1d numpy array of strings, then the y\n",
        " |          coordinates are integers, 0, 1, 2, 3, ..., labeled on the y-axis by\n",
        " |          the list or 1d numpy array of strings linked to 'y'.\n",
        " |  \n",
        " |      type [required=False] (value='scatter'):\n",
        " |          Plotly identifier for this data's trace type.\n",
        " |  \n",
        " |  Method resolution order:\n",
        " |      Scatter\n",
        " |      PlotlyTrace\n",
        " |      PlotlyDict\n",
        " |      __builtin__.dict\n",
        " |      __builtin__.object\n",
        " |  \n",
        " |  Methods inherited from PlotlyTrace:\n",
        " |  \n",
        " |  __init__(self, *args, **kwargs)\n",
        " |  \n",
        " |  to_string(self, level=0, indent=4, eol='\\n', pretty=True, max_chars=80)\n",
        " |      Returns a formatted string showing graph_obj constructors.\n",
        " |      \n",
        " |      Example:\n",
        " |      \n",
        " |          print(obj.to_string())\n",
        " |      \n",
        " |      Keyword arguments:\n",
        " |      level (default = 0) -- set number of indentations to start with\n",
        " |      indent (default = 4) -- set indentation amount\n",
        " |      eol (default = '\\n') -- set end of line character(s)\n",
        " |      pretty (default = True) -- curtail long list output with a '...'\n",
        " |      max_chars (default = 80) -- set max characters per line\n",
        " |  \n",
        " |  ----------------------------------------------------------------------\n",
        " |  Methods inherited from PlotlyDict:\n",
        " |  \n",
        " |  __setitem__(self, key, value)\n",
        " |  \n",
        " |  force_clean(self, caller=True)\n",
        " |      Attempts to convert to graph_objs and call force_clean() on values.\n",
        " |      \n",
        " |      Calling force_clean() on a PlotlyDict will ensure that the object is\n",
        " |      valid and may be sent to plotly. This process will also remove any\n",
        " |      entries that end up with a length == 0.\n",
        " |      \n",
        " |      Careful! This will delete any invalid entries *silently*.\n",
        " |  \n",
        " |  get_data(self)\n",
        " |      Returns the JSON for the plot with non-data elements stripped.\n",
        " |  \n",
        " |  get_ordered(self, caller=True)\n",
        " |  \n",
        " |  strip_style(self)\n",
        " |      Strip style from the current representation.\n",
        " |      \n",
        " |      All PlotlyDicts and PlotlyLists are guaranteed to survive the\n",
        " |      stripping process, though they made be left empty. This is allowable.\n",
        " |      \n",
        " |      Keys that will be stripped in this process are tagged with\n",
        " |      `'type': 'style'` in graph_objs_meta.json.\n",
        " |      \n",
        " |      This process first attempts to convert nested collections from dicts\n",
        " |      or lists to subclasses of PlotlyList/PlotlyDict. This process forces\n",
        " |      a validation, which may throw exceptions.\n",
        " |      \n",
        " |      Then, each of these objects call `strip_style` on themselves and so\n",
        " |      on, recursively until the entire structure has been validated and\n",
        " |      stripped.\n",
        " |  \n",
        " |  to_graph_objs(self, caller=True)\n",
        " |      Walk obj, convert dicts and lists to plotly graph objs.\n",
        " |      \n",
        " |      For each key in the object, if it corresponds to a special key that\n",
        " |      should be associated with a graph object, the ordinary dict or list\n",
        " |      will be reinitialized as a special PlotlyDict or PlotlyList of the\n",
        " |      appropriate `kind`.\n",
        " |  \n",
        " |  update(self, dict1=None, **dict2)\n",
        " |      Update current dict with dict1 and then dict2.\n",
        " |      \n",
        " |      This recursively updates the structure of the original dictionary-like\n",
        " |      object with the new entries in the second and third objects. This\n",
        " |      allows users to update with large, nested structures.\n",
        " |      \n",
        " |      Note, because the dict2 packs up all the keyword arguments, you can\n",
        " |      specify the changes as a list of keyword agruments.\n",
        " |      \n",
        " |      Examples:\n",
        " |      # update with dict\n",
        " |      obj = Layout(title='my title', xaxis=XAxis(range=[0,1], domain=[0,1]))\n",
        " |      update_dict = dict(title='new title', xaxis=dict(domain=[0,.8]))\n",
        " |      obj.update(update_dict)\n",
        " |      obj\n",
        " |      {'title': 'new title', 'xaxis': {'range': [0,1], 'domain': [0,.8]}}\n",
        " |      \n",
        " |      # update with list of keyword arguments\n",
        " |      obj = Layout(title='my title', xaxis=XAxis(range=[0,1], domain=[0,1]))\n",
        " |      obj.update(title='new title', xaxis=dict(domain=[0,.8]))\n",
        " |      obj\n",
        " |      {'title': 'new title', 'xaxis': {'range': [0,1], 'domain': [0,.8]}}\n",
        " |      \n",
        " |      This 'fully' supports duck-typing in that the call signature is\n",
        " |      identical, however this differs slightly from the normal update\n",
        " |      method provided by Python's dictionaries.\n",
        " |  \n",
        " |  validate(self, caller=True)\n",
        " |      Recursively check the validity of the keys in a PlotlyDict.\n",
        " |      \n",
        " |      The valid keys constitute the entries in each object\n",
        " |      dictionary in graph_objs_meta.json\n",
        " |      \n",
        " |      The validation process first requires that all nested collections be\n",
        " |      converted to the appropriate subclass of PlotlyDict/PlotlyList. Then,\n",
        " |      each of these objects call `validate` and so on, recursively,\n",
        " |      until the entire object has been validated.\n",
        " |  \n",
        " |  ----------------------------------------------------------------------\n",
        " |  Data descriptors inherited from PlotlyDict:\n",
        " |  \n",
        " |  __dict__\n",
        " |      dictionary for instance variables (if defined)\n",
        " |  \n",
        " |  __weakref__\n",
        " |      list of weak references to the object (if defined)\n",
        " |  \n",
        " |  ----------------------------------------------------------------------\n",
        " |  Methods inherited from __builtin__.dict:\n",
        " |  \n",
        " |  __cmp__(...)\n",
        " |      x.__cmp__(y) <==> cmp(x,y)\n",
        " |  \n",
        " |  __contains__(...)\n",
        " |      D.__contains__(k) -> True if D has a key k, else False\n",
        " |  \n",
        " |  __delitem__(...)\n",
        " |      x.__delitem__(y) <==> del x[y]\n",
        " |  \n",
        " |  __eq__(...)\n",
        " |      x.__eq__(y) <==> x==y\n",
        " |  \n",
        " |  __ge__(...)\n",
        " |      x.__ge__(y) <==> x>=y\n",
        " |  \n",
        " |  __getattribute__(...)\n",
        " |      x.__getattribute__('name') <==> x.name\n",
        " |  \n",
        " |  __getitem__(...)\n",
        " |      x.__getitem__(y) <==> x[y]\n",
        " |  \n",
        " |  __gt__(...)\n",
        " |      x.__gt__(y) <==> x>y\n",
        " |  \n",
        " |  __iter__(...)\n",
        " |      x.__iter__() <==> iter(x)\n",
        " |  \n",
        " |  __le__(...)\n",
        " |      x.__le__(y) <==> x<=y\n",
        " |  \n",
        " |  __len__(...)\n",
        " |      x.__len__() <==> len(x)\n",
        " |  \n",
        " |  __lt__(...)\n",
        " |      x.__lt__(y) <==> x<y\n",
        " |  \n",
        " |  __ne__(...)\n",
        " |      x.__ne__(y) <==> x!=y\n",
        " |  \n",
        " |  __repr__(...)\n",
        " |      x.__repr__() <==> repr(x)\n",
        " |  \n",
        " |  __sizeof__(...)\n",
        " |      D.__sizeof__() -> size of D in memory, in bytes\n",
        " |  \n",
        " |  clear(...)\n",
        " |      D.clear() -> None.  Remove all items from D.\n",
        " |  \n",
        " |  copy(...)\n",
        " |      D.copy() -> a shallow copy of D\n",
        " |  \n",
        " |  fromkeys(...)\n",
        " |      dict.fromkeys(S[,v]) -> New dict with keys from S and values equal to v.\n",
        " |      v defaults to None.\n",
        " |  \n",
        " |  get(...)\n",
        " |      D.get(k[,d]) -> D[k] if k in D, else d.  d defaults to None.\n",
        " |  \n",
        " |  has_key(...)\n",
        " |      D.has_key(k) -> True if D has a key k, else False\n",
        " |  \n",
        " |  items(...)\n",
        " |      D.items() -> list of D's (key, value) pairs, as 2-tuples\n",
        " |  \n",
        " |  iteritems(...)\n",
        " |      D.iteritems() -> an iterator over the (key, value) items of D\n",
        " |  \n",
        " |  iterkeys(...)\n",
        " |      D.iterkeys() -> an iterator over the keys of D\n",
        " |  \n",
        " |  itervalues(...)\n",
        " |      D.itervalues() -> an iterator over the values of D\n",
        " |  \n",
        " |  keys(...)\n",
        " |      D.keys() -> list of D's keys\n",
        " |  \n",
        " |  pop(...)\n",
        " |      D.pop(k[,d]) -> v, remove specified key and return the corresponding value.\n",
        " |      If key is not found, d is returned if given, otherwise KeyError is raised\n",
        " |  \n",
        " |  popitem(...)\n",
        " |      D.popitem() -> (k, v), remove and return some (key, value) pair as a\n",
        " |      2-tuple; but raise KeyError if D is empty.\n",
        " |  \n",
        " |  setdefault(...)\n",
        " |      D.setdefault(k[,d]) -> D.get(k,d), also set D[k]=d if k not in D\n",
        " |  \n",
        " |  values(...)\n",
        " |      D.values() -> list of D's values\n",
        " |  \n",
        " |  viewitems(...)\n",
        " |      D.viewitems() -> a set-like object providing a view on D's items\n",
        " |  \n",
        " |  viewkeys(...)\n",
        " |      D.viewkeys() -> a set-like object providing a view on D's keys\n",
        " |  \n",
        " |  viewvalues(...)\n",
        " |      D.viewvalues() -> an object providing a view on D's values\n",
        " |  \n",
        " |  ----------------------------------------------------------------------\n",
        " |  Data and other attributes inherited from __builtin__.dict:\n",
        " |  \n",
        " |  __hash__ = None\n",
        " |  \n",
        " |  __new__ = <built-in method __new__ of type object>\n",
        " |      T.__new__(S, ...) -> a new object with type S, a subtype of T\n",
        "\n"
       ]
      }
     ],
     "prompt_number": 9
    },
    {
     "cell_type": "markdown",
     "metadata": {},
     "source": [
      "Pay special attention to the `'mode'` key. It accepts as values `'lines'`, `'markers'`, `'text'` and any sets of these three, determining how the coordinates are displayed.\n",
      "\n",
      "* With `'markers'`, coordinates are display as free (i.e. scatter, unlinked) points,\n",
      "* With `'lines'`, coordinates are linked with lines, \n",
      "* With `'text'`, text linked to the `'text'` in `Scatter` is display on top of the coordinates (more in [subsection 1.4](#1.4-Others-types-of-scatter-plots)). \n",
      "\n",
      "Then, for example, the set `'lines+markers'` (or `'markers+lines'`, order is unimportant) corresponds to points at the coordinates together with lines in-between them. Another possibility is `'lines+markers+text'` which displays points at the coordinates, lines in-between them as well as text at the coordinates.\n",
      "\n",
      "We choose to set `'mode'` to `'lines+markers'` for the China `Scatter` instance and set `'mode'` to `'markers'` for the USA `Scatter` instance. \n",
      "\n",
      "The China scatter trace object is then:"
     ]
    },
    {
     "cell_type": "code",
     "collapsed": false,
     "input": [
      "# Make scatter trace object with data for China\n",
      "trace_china = Scatter(\n",
      "    Quartz7_data['data'][0],  # (!) 'name', 'x' and 'y' as in original figure\n",
      "    mode='markers+lines'      # marker pts and lines (the default here)\n",
      ")"
     ],
     "language": "python",
     "metadata": {},
     "outputs": [],
     "prompt_number": 10
    },
    {
     "cell_type": "code",
     "collapsed": false,
     "input": [
      "print(trace_china.to_string())"
     ],
     "language": "python",
     "metadata": {},
     "outputs": [
      {
       "output_type": "stream",
       "stream": "stdout",
       "text": [
        "Scatter(\n",
        "    x=[u'2001', u'2002', u'2003', u'2004', u'2005', u'2006', u'2007', u'..', ],\n",
        "    y=[u'1.1', u'1.5', u'2.1', u'2.8', u'3.4', u'4.1', u'5.0', u'5.6', '..'  ],\n",
        "    mode='markers+lines',\n",
        "    name=u'China'\n",
        ")\n"
       ]
      }
     ],
     "prompt_number": 11
    },
    {
     "cell_type": "markdown",
     "metadata": {},
     "source": [
      "Correspondingly, the USA scatter trace object is:"
     ]
    },
    {
     "cell_type": "code",
     "collapsed": false,
     "input": [
      "# Make instance of Scatter object with data for the USA\n",
      "trace_usa = Scatter(\n",
      "    Quartz7_data['data'][1],  # (!) 'name', 'x' and 'y' as in original figure\n",
      "    mode='markers',           # show marker pts only\n",
      "    marker=Marker(\n",
      "        symbol='square'       # show square marker pts\n",
      "    )\n",
      ")"
     ],
     "language": "python",
     "metadata": {},
     "outputs": [],
     "prompt_number": 12
    },
    {
     "cell_type": "code",
     "collapsed": false,
     "input": [
      "print(trace_usa.to_string())"
     ],
     "language": "python",
     "metadata": {},
     "outputs": [
      {
       "output_type": "stream",
       "stream": "stdout",
       "text": [
        "Scatter(\n",
        "    x=[u'2001', u'2002', u'2003', u'2004', u'2005', u'2006', u'2007', u'..', ],\n",
        "    y=[u'1.3', u'1.2', u'1.3', u'1.4', u'1.5', u'1.5', u'1.5', u'1.6', '..'  ],\n",
        "    mode='markers',\n",
        "    name=u'U.S.',\n",
        "    marker=Marker(\n",
        "        symbol='square'\n",
        "    )\n",
        ")\n"
       ]
      }
     ],
     "prompt_number": 13
    },
    {
     "cell_type": "markdown",
     "metadata": {},
     "source": [
      "Next, package these two scatter trace objects using a data object:"
     ]
    },
    {
     "cell_type": "code",
     "collapsed": false,
     "input": [
      "# Make data object containing two traces\n",
      "data = Data([trace_china, trace_usa])"
     ],
     "language": "python",
     "metadata": {},
     "outputs": [],
     "prompt_number": 14
    },
    {
     "cell_type": "markdown",
     "metadata": {},
     "source": [
      "Add our own title for this figure in the layout object:"
     ]
    },
    {
     "cell_type": "code",
     "collapsed": false,
     "input": [
      "# Make a layout object\n",
      "layout = Layout(title='Fig 1: Number of university graduates [in millions]')"
     ],
     "language": "python",
     "metadata": {},
     "outputs": [],
     "prompt_number": 15
    },
    {
     "cell_type": "markdown",
     "metadata": {},
     "source": [
      "Recall that all the information about any Plotly figure is contained in a lone figure JSON object. From Plotly's Python API, Data and layout are brought together with `Figure`:"
     ]
    },
    {
     "cell_type": "code",
     "collapsed": false,
     "input": [
      "# Make a figure object\n",
      "fig = Figure(data=data, layout=layout)"
     ],
     "language": "python",
     "metadata": {},
     "outputs": [],
     "prompt_number": 16
    },
    {
     "cell_type": "markdown",
     "metadata": {},
     "source": [
      "Finally, send `fig` to Plotly using the `iplot()` method attached a file name and get the resulting plot directly in this notebook:"
     ]
    },
    {
     "cell_type": "code",
     "collapsed": false,
     "input": [
      "# (@) Send figure object to Plotly and show result in notebook \n",
      "py.iplot(fig, filename='s1_grad-china-usa')"
     ],
     "language": "python",
     "metadata": {},
     "outputs": [
      {
       "html": [
        "<iframe id=\"igraph\" scrolling=\"no\" style=\"border:none;\"seamless=\"seamless\" src=\"https://plot.ly/~etpinard/299.embed\" height=\"525\" width=\"100%\"></iframe>"
       ],
       "metadata": {},
       "output_type": "pyout",
       "prompt_number": 17,
       "text": [
        "<plotly.tools.PlotlyDisplay at 0x7f3e672ef0d0>"
       ]
      }
     ],
     "prompt_number": 17
    },
    {
     "cell_type": "markdown",
     "metadata": {},
     "source": [
      "*All that's it.*\n",
      "\n",
      "We just converted an existing Plotly bar charts into a scatter plot.\n",
      "\n",
      "Hover over the scatter points with your cursor and see how Plotly's interactibility is ideal to compare two y-coordinates for a given x-coordinate."
     ]
    },
    {
     "cell_type": "heading",
     "level": 5,
     "metadata": {},
     "source": [
      "Saving figures made from the API"
     ]
    },
    {
     "cell_type": "markdown",
     "metadata": {},
     "source": [
      "The way figures made from the API are saved is determined by the `fileopt` keyword argument in `py.plot()` and `py.iplot()`. We encourage user to always specify a file name for each Plotly figure made, using the `filename` keyword, in order to better track of them.\n",
      "\n",
      "The `fileopt` keyword argument can take on four values: `'new'`, `'overwrite'`, `'append'` and `'extend'`. For now, take note that by default, if `filename` is set then `fileopt` corresponds to `'overwrite'`. That is,\n",
      "\n",
      "    >>> py.plot(fig, filename='some-figure')\n",
      "    \n",
      "followed by\n",
      "\n",
      "    >>> py.plot(fig2, filename='some-figure')\n",
      "    \n",
      "will overwrite the figure made with the figure object `my_fig` with a figure made with `my_fig2`. Alternatively, \n",
      "    \n",
      "    >>> py.plot(fig,filename='s1_grad-china-usa', fileopt='new')\n",
      "    \n",
      "creates a new file named `s1_grad-china-usa (1)` if `s1_grad-china-usa` already exist on your Plotly account. Your workspace would look something like:\n",
      "       \n",
      "<img src=\"http://i.imgur.com/df4BGIS.png\" style=\"padding-bottom:1em;\">\n",
      "\n",
      "If `s1_grad-china-usa (1)` already existed then the new file would have been named `s1_grad-china-usa (2)` and so on.\n",
      "\n",
      "In addition, Plotly allows users to create folders of files. For example,\n",
      "\n",
      "    >>> py.plot(fig, filename='some-folder/some-figure')\n",
      "    \n",
      "saves the generated figure in a file named `some-figure` in a folder named `some-folder` (that Plotly automatically creates if it does not exist)."
     ]
    },
    {
     "cell_type": "heading",
     "level": 5,
     "metadata": {},
     "source": [
      "Import and share your plots"
     ]
    },
    {
     "cell_type": "markdown",
     "metadata": {},
     "source": [
      "By default, Plotly figures made from the Python API are *public* meaning that anyone is allow to see them. To make a *private* figure simply add `world_readable=False` to your `py.plot()` or `py.iplot` call, for example:\n",
      "\n",
      "    >>> py.plot(fig, filename='private-fig', world_readable=False)"
     ]
    },
    {
     "cell_type": "markdown",
     "metadata": {},
     "source": [
      "Importing a Plotly figure as an image to your hard drive can be done either from the Workspace or the directly from an Python/IPython session.\n",
      "\n",
      "\n",
      "\n",
      "To import a Plotly figure from the workspace, \n",
      "\n",
      "1. Go to the figure's URL (or click on the *data and graph* link at the button of any embedded Plotly figure),\n",
      "1. Click *Fork and Edit* button. You are now entering the Workspace,\n",
      "1. Click on the *download* button, leading you to this page:\n",
      "\n",
      "<img src=\"http://i.imgur.com/x9NZSyz.png\" />\n"
     ]
    },
    {
     "cell_type": "markdown",
     "metadata": {},
     "source": [
      "where you can choose the image's size and format."
     ]
    },
    {
     "cell_type": "markdown",
     "metadata": {},
     "source": [
      "Imports from an Python/IPython session are done by making a call to Plotly's image server with the `plotly.plotly.image` class:"
     ]
    },
    {
     "cell_type": "code",
     "collapsed": false,
     "input": [
      "help(py.image)  # call help!"
     ],
     "language": "python",
     "metadata": {},
     "outputs": [
      {
       "output_type": "stream",
       "stream": "stdout",
       "text": [
        "Help on class image in module plotly.plotly.plotly:\n",
        "\n",
        "class image\n",
        " |  Helper functions wrapped around plotly's static image generation api.\n",
        " |  \n",
        " |  Class methods defined here:\n",
        " |  \n",
        " |  ishow(cls, figure_or_data, format='png', width=None, height=None) from __builtin__.classobj\n",
        " |      Display a static image of the plot described by `figure`\n",
        " |      in an IPython Notebook.\n",
        " |  \n",
        " |  save_as(cls, figure_or_data, filename, format=None, width=None, height=None) from __builtin__.classobj\n",
        " |      Save a static image of the plot described by `figure` locally as `filename`.\n",
        " |      Valid image formats are 'png', 'svg', 'jpeg', and 'pdf'.\n",
        " |      The format is taken as the extension of the filename or as the supplied format.\n",
        " |  \n",
        " |  ----------------------------------------------------------------------\n",
        " |  Static methods defined here:\n",
        " |  \n",
        " |  get(figure_or_data, format='png', width=None, height=None)\n",
        " |      Return a static image of the plot described by `figure`.\n",
        " |      \n",
        " |      Valid formats: 'png', 'svg', 'jpeg', 'pdf'\n",
        "\n"
       ]
      }
     ],
     "prompt_number": 18
    },
    {
     "cell_type": "markdown",
     "metadata": {},
     "source": [
      "For instance, \n",
      "\n",
      "    >>> py.image.save_as(fig, filename='some-fig.svg')\n",
      "    \n",
      "where `fig` is the figure object, either defined in the current Python/IPython session or retrieved by \n",
      "\n",
      "    >>> fig = py.get_figure('plotly-username', figure_id)\n",
      "    \n",
      "    "
     ]
    },
    {
     "cell_type": "markdown",
     "metadata": {},
     "source": [
      "For more on sharing, you are invited to watch the following video:"
     ]
    },
    {
     "cell_type": "code",
     "collapsed": false,
     "input": [
      "from IPython.display import VimeoVideo\n",
      "VimeoVideo('94003080', width='100%', height='350')"
     ],
     "language": "python",
     "metadata": {},
     "outputs": [
      {
       "html": [
        "\n",
        "        <iframe\n",
        "            width=\"100%\"\n",
        "            height=350\"\n",
        "            src=\"https://player.vimeo.com/video/94003080\"\n",
        "            frameborder=\"0\"\n",
        "            allowfullscreen\n",
        "        ></iframe>\n",
        "        "
       ],
       "metadata": {},
       "output_type": "pyout",
       "prompt_number": 19,
       "text": [
        "<IPython.lib.display.VimeoVideo at 0x7f3e3f76bb90>"
       ]
      }
     ],
     "prompt_number": 19
    },
    {
     "cell_type": "heading",
     "level": 3,
     "metadata": {},
     "source": [
      "1.2 Style and layout options"
     ]
    },
    {
     "cell_type": "markdown",
     "metadata": {},
     "source": [
      "In this subsection, we start from a figure showcasing a great data, but lacking some style:"
     ]
    },
    {
     "cell_type": "code",
     "collapsed": false,
     "input": [
      "tls.embed('BrianVancil', 8, width=1100)\n",
      "\n",
      "# (-) You can adjust the width the notebook cell with\n",
      "#     'width' keyword argument."
     ],
     "language": "python",
     "metadata": {},
     "outputs": [
      {
       "html": [
        "<iframe id=\"igraph\" scrolling=\"no\" style=\"border:none;\"seamless=\"seamless\" src=\"https://plot.ly/~BrianVancil/8.embed?width=1075&height=500\" height=\"525\" width=\"1100\"></iframe>"
       ],
       "metadata": {},
       "output_type": "pyout",
       "prompt_number": 20,
       "text": [
        "<plotly.tools.PlotlyDisplay at 0x7f3e3f76b850>"
       ]
      }
     ],
     "prompt_number": 20
    },
    {
     "cell_type": "markdown",
     "metadata": {},
     "source": [
      "Plotly's web GUI allows users to modify the appearance of the figure in real-time, that is without having to run, rerun and re-rerun code to get the desired results.\n",
      "\n",
      "Together with `py.get_figure()`, this method is also reproducible. \n",
      "\n",
      "Watch the following video to see an example of how to transform a figure's apperance using the Workspace:"
     ]
    },
    {
     "cell_type": "code",
     "collapsed": false,
     "input": [
      "from IPython.display import YouTubeVideo\n",
      "YouTubeVideo('YEM6QMSylfU', width='100%', height='350')"
     ],
     "language": "python",
     "metadata": {},
     "outputs": [
      {
       "html": [
        "\n",
        "        <iframe\n",
        "            width=\"100%\"\n",
        "            height=350\"\n",
        "            src=\"https://www.youtube.com/embed/YEM6QMSylfU\"\n",
        "            frameborder=\"0\"\n",
        "            allowfullscreen\n",
        "        ></iframe>\n",
        "        "
       ],
       "metadata": {},
       "output_type": "pyout",
       "prompt_number": 21,
       "text": [
        "<IPython.lib.display.YouTubeVideo at 0x7f3e3f76b750>"
       ]
      }
     ],
     "prompt_number": 21
    },
    {
     "cell_type": "markdown",
     "metadata": {},
     "source": [
      "Note that some the UI elements in the above video are out-of-date; however, the graph editing would be done the same way on the current <a href=\"https://plot.ly/plot\">plot.ly/plot</a>.\n",
      "\n",
      "The resulting figure is:"
     ]
    },
    {
     "cell_type": "code",
     "collapsed": false,
     "input": [
      "tls.embed(\"https://plot.ly/~etpinard/329/\", width=1100)"
     ],
     "language": "python",
     "metadata": {},
     "outputs": [
      {
       "html": [
        "<iframe id=\"igraph\" scrolling=\"no\" style=\"border:none;\"seamless=\"seamless\" src=\"https://plot.ly/~etpinard/329.embed?width=1075&height=500\" height=\"525\" width=\"1100\"></iframe>"
       ],
       "metadata": {},
       "output_type": "pyout",
       "prompt_number": 22,
       "text": [
        "<plotly.tools.PlotlyDisplay at 0x7f3e3ffdd150>"
       ]
      }
     ],
     "prompt_number": 22
    },
    {
     "cell_type": "markdown",
     "metadata": {},
     "source": [
      "We hope you think that the above looks better than the original."
     ]
    },
    {
     "cell_type": "markdown",
     "metadata": {},
     "source": [
      "Next, we take a closer look on how Plotly stores this information. More precisely, we explore [(1)](#-1--HTML-tags-in-text) HTML tags in text, [(2)](#-2--Color-models) color models, [(3)](#-3--Axis-and-Legend) the axis and legend graph objects and finally [(4)](#-4--Figure-sizing) figure sizing.\n",
      "\n",
      "But first, retrieve the styled figure object from Plotly's servers:"
     ]
    },
    {
     "cell_type": "code",
     "collapsed": false,
     "input": [
      "# (@) Retrieve figure object using the figure's URL\n",
      "fig = py.get_figure(\"https://plot.ly/~etpinard/329\")"
     ],
     "language": "python",
     "metadata": {},
     "outputs": [],
     "prompt_number": 23
    },
    {
     "cell_type": "heading",
     "level": 5,
     "metadata": {},
     "source": [
      "-1- HTML tags in text"
     ]
    },
    {
     "cell_type": "markdown",
     "metadata": {},
     "source": [
      "Take a look at the `'name'` key of are two traces:"
     ]
    },
    {
     "cell_type": "code",
     "collapsed": false,
     "input": [
      "fig['data'][0]['name']"
     ],
     "language": "python",
     "metadata": {},
     "outputs": [
      {
       "metadata": {},
       "output_type": "pyout",
       "prompt_number": 24,
       "text": [
        "u'<b>Data from Freedman et al.</b><br><em>\"FINAL RESULTS FROM THE HUBBLE SPACE TELESCOPE<br>KEY PROJECT TO MEASURE THE HUBBLE CONSTANT\"</em>'"
       ]
      }
     ],
     "prompt_number": 24
    },
    {
     "cell_type": "code",
     "collapsed": false,
     "input": [
      "fig['data'][1]['name']"
     ],
     "language": "python",
     "metadata": {},
     "outputs": [
      {
       "metadata": {},
       "output_type": "pyout",
       "prompt_number": 25,
       "text": [
        "u'$\\\\text{Linear fit:} \\\\; v = (72.1 \\\\text{km/s/Mpc}) r + 65.7 \\\\text{km/s}$'"
       ]
      }
     ],
     "prompt_number": 25
    },
    {
     "cell_type": "markdown",
     "metadata": {},
     "source": [
      "Plotly uses a subset of HTML tags to do things like newline (`<br>`), bold (`<b></b>`), italics (`<i></i>`), hyperlinks (`<a href='...'></a>`). Tags `<em>`, `<sup>`, `<sub>`,\n",
      " `<span>` are also supported, making it easy to style text shown the plot's title, the axes' titles, annotations and anywhere else in a Plotly figure."
     ]
    },
    {
     "cell_type": "heading",
     "level": 5,
     "metadata": {},
     "source": [
      "-2- Color models"
     ]
    },
    {
     "cell_type": "markdown",
     "metadata": {},
     "source": [
      "A few examples of colors set in the previous figure:"
     ]
    },
    {
     "cell_type": "code",
     "collapsed": false,
     "input": [
      "fig['data'][1]['line']['color']"
     ],
     "language": "python",
     "metadata": {},
     "outputs": [
      {
       "metadata": {},
       "output_type": "pyout",
       "prompt_number": 26,
       "text": [
        "u'rgb(204, 65, 37)'"
       ]
      }
     ],
     "prompt_number": 26
    },
    {
     "cell_type": "code",
     "collapsed": false,
     "input": [
      "fig['layout']['plot_bgcolor']"
     ],
     "language": "python",
     "metadata": {},
     "outputs": [
      {
       "metadata": {},
       "output_type": "pyout",
       "prompt_number": 27,
       "text": [
        "u'rgb(217, 217, 217)'"
       ]
      }
     ],
     "prompt_number": 27
    },
    {
     "cell_type": "code",
     "collapsed": false,
     "input": [
      "fig['layout']['xaxis']['gridcolor']"
     ],
     "language": "python",
     "metadata": {},
     "outputs": [
      {
       "metadata": {},
       "output_type": "pyout",
       "prompt_number": 28,
       "text": [
        "u'rgb(255, 255, 255)'"
       ]
      }
     ],
     "prompt_number": 28
    },
    {
     "cell_type": "markdown",
     "metadata": {},
     "source": [
      "All Plotly colors are specified as strings (i.e. inside `''` or `\"\"` in Python). \n",
      "\n",
      "Although the above all are set in the red-green-blue color model (e.g. `'rgb(0,139,139)`), Plotly also accepts red-green-blue-alpha (e.g. `'rgba(0,139,139,0.5)'`), Hex (e.g. `'#008b8b'`) and numerous pre-defined color names (e.g. `'blue'`, `'red'`, `'yellow'`, the full list can be found here <a href=\"http://reeddesign.co.uk/test/namedcolors.html\" target=\"_blank\">here</a>). \n",
      "\n",
      "\t\n",
      "\n",
      "Later in <a href=\"https://plot.ly/python/bubble-charts-tutorial\">section 3</a> on Bubble Charts, we will see that the `'color'` without the `Marker` object of trace objects such as `Scatter` and `Bar` can be links to lists of colors."
     ]
    },
    {
     "cell_type": "heading",
     "level": 5,
     "metadata": {},
     "source": [
      "-3- Axis and Legend"
     ]
    },
    {
     "cell_type": "markdown",
     "metadata": {},
     "source": [
      "Axis and legend style options are set through the `'xaxis'` (or `'xaxis1'`), `'yaxis'` (or `'yaxis1'`)  and `'legend'` keys in the layout object. For instance, "
     ]
    },
    {
     "cell_type": "code",
     "collapsed": false,
     "input": [
      "print(fig['layout']['xaxis'].to_string())"
     ],
     "language": "python",
     "metadata": {},
     "outputs": [
      {
       "output_type": "stream",
       "stream": "stdout",
       "text": [
        "XAxis(\n",
        "    title=u'<b>Distance</b> \\xa0[Mpc]',\n",
        "    titlefont=Font(\n",
        "        family=u'',\n",
        "        size=0,\n",
        "        color=u''\n",
        "    ),\n",
        "    range=[0, 23.39607843137255],\n",
        "    domain=[0, 1],\n",
        "    type=u'linear',\n",
        "    rangemode=u'tozero',\n",
        "    autorange=True,\n",
        "    showgrid=True,\n",
        "    zeroline=False,\n",
        "    showline=False,\n",
        "    autotick=False,\n",
        "    nticks=0,\n",
        "    ticks=u'outside',\n",
        "    showticklabels=True,\n",
        "    tick0=0,\n",
        "    dtick=2,\n",
        "    ticklen=8,\n",
        "    tickwidth=1.5,\n",
        "    tickcolor=u'#444',\n",
        "    tickangle=u'auto',\n",
        "    tickfont=Font(\n",
        "        family=u'',\n",
        "        size=0,\n",
        "        color=u''\n",
        "    ),\n",
        "    exponentformat=u'B',\n",
        "    showexponent=u'all',\n",
        "    mirror=False,\n",
        "    gridcolor=u'rgb(255, 255, 255)',\n",
        "    gridwidth=1.5,\n",
        "    zerolinecolor=u'#444',\n",
        "    zerolinewidth=1,\n",
        "    linecolor=u'#444',\n",
        "    linewidth=1,\n",
        "    anchor=u'y',\n",
        "    overlaying=False,\n",
        "    position=0\n",
        ")\n"
       ]
      }
     ],
     "prompt_number": 29
    },
    {
     "cell_type": "code",
     "collapsed": false,
     "input": [
      "print(fig['layout']['yaxis'].to_string())"
     ],
     "language": "python",
     "metadata": {},
     "outputs": [
      {
       "output_type": "stream",
       "stream": "stdout",
       "text": [
        "YAxis(\n",
        "    title=u'<b>Radial velocity</b> \\xa0[km/s]',\n",
        "    titlefont=Font(\n",
        "        family=u'',\n",
        "        size=0,\n",
        "        color=u''\n",
        "    ),\n",
        "    range=[-221.13855421686748, 2148.1385542168673],\n",
        "    domain=[0, 1],\n",
        "    type=u'linear',\n",
        "    rangemode=u'tozero',\n",
        "    autorange=True,\n",
        "    showgrid=True,\n",
        "    zeroline=False,\n",
        "    showline=False,\n",
        "    autotick=True,\n",
        "    nticks=0,\n",
        "    ticks=u'outside',\n",
        "    showticklabels=True,\n",
        "    tick0=0,\n",
        "    dtick=500,\n",
        "    ticklen=8,\n",
        "    tickwidth=1.5,\n",
        "    tickcolor=u'#444',\n",
        "    tickangle=u'auto',\n",
        "    tickfont=Font(\n",
        "        family=u'',\n",
        "        size=0,\n",
        "        color=u''\n",
        "    ),\n",
        "    exponentformat=u'B',\n",
        "    showexponent=u'all',\n",
        "    mirror=False,\n",
        "    gridcolor=u'rgb(255, 255, 255)',\n",
        "    gridwidth=1.5,\n",
        "    zerolinecolor=u'#444',\n",
        "    zerolinewidth=1,\n",
        "    linecolor=u'#444',\n",
        "    linewidth=1,\n",
        "    anchor=u'x',\n",
        "    overlaying=False,\n",
        "    position=0\n",
        ")\n"
       ]
      }
     ],
     "prompt_number": 30
    },
    {
     "cell_type": "code",
     "collapsed": false,
     "input": [
      "print(fig['layout']['legend'].to_string())"
     ],
     "language": "python",
     "metadata": {},
     "outputs": [
      {
       "output_type": "stream",
       "stream": "stdout",
       "text": [
        "Legend(\n",
        "    x=0.010260457774269928,\n",
        "    y=0.9551820728291316,\n",
        "    traceorder=u'normal',\n",
        "    font=Font(\n",
        "        family=u'',\n",
        "        size=0,\n",
        "        color=u''\n",
        "    ),\n",
        "    bgcolor=u'rgba(0, 0, 0, 0)',\n",
        "    bordercolor=u'#444',\n",
        "    borderwidth=0,\n",
        "    xanchor=u'left',\n",
        "    yanchor=u'top'\n",
        ")\n"
       ]
      }
     ],
     "prompt_number": 31
    },
    {
     "cell_type": "markdown",
     "metadata": {},
     "source": [
      "The above three layout keys are linked to the `XAxis`, `YAxis` and `Legend` graph objects respectively (which are all dictionary-like). You are invited to call help on each of them."
     ]
    },
    {
     "cell_type": "markdown",
     "metadata": {},
     "source": [
      "More closely, note that the legend position is assigned using normalized coordinates with respect to the axis frame. For example,\n",
      "\n",
      "    >>> Legend(x=0, y=1)\n",
      "    \n",
      "would place the legend at the top-left corner; \n",
      "\n",
      "    >>> Legend(x=0, y=0)\n",
      "    \n",
      "would place the legend at the bottom-left. "
     ]
    },
    {
     "cell_type": "heading",
     "level": 4,
     "metadata": {},
     "source": [
      "-4- Figure sizing"
     ]
    },
    {
     "cell_type": "markdown",
     "metadata": {},
     "source": [
      "Modifying the size of a figure is done using three keys in the layout object. These are:"
     ]
    },
    {
     "cell_type": "code",
     "collapsed": false,
     "input": [
      "fig['layout']['autosize']"
     ],
     "language": "python",
     "metadata": {},
     "outputs": [
      {
       "metadata": {},
       "output_type": "pyout",
       "prompt_number": 32,
       "text": [
        "False"
       ]
      }
     ],
     "prompt_number": 32
    },
    {
     "cell_type": "code",
     "collapsed": false,
     "input": [
      "fig['layout']['width']"
     ],
     "language": "python",
     "metadata": {},
     "outputs": [
      {
       "metadata": {},
       "output_type": "pyout",
       "prompt_number": 33,
       "text": [
        "1110"
       ]
      }
     ],
     "prompt_number": 33
    },
    {
     "cell_type": "code",
     "collapsed": false,
     "input": [
      "fig['layout']['height']"
     ],
     "language": "python",
     "metadata": {},
     "outputs": [
      {
       "metadata": {},
       "output_type": "pyout",
       "prompt_number": 34,
       "text": [
        "525"
       ]
      }
     ],
     "prompt_number": 34
    },
    {
     "cell_type": "markdown",
     "metadata": {},
     "source": [
      "where `'autosize'` must be set to `False` for `'width'` and `'height'` to have an effect.\n",
      "Both `'width'` and `'height'` are measured in pixels.\n",
      "\n",
      "As an example, adjust the size of our previous figure while keeping the width-height ratio the same:"
     ]
    },
    {
     "cell_type": "code",
     "collapsed": false,
     "input": [
      "# Compute width-heigth ratio\n",
      "ratio = float(fig['layout']['width']) / fig['layout']['height']\n",
      "\n",
      "# (-) One of the components must be a float so that the division yields a float\n",
      "\n",
      "new_width = 650                    # set new width (in pixels)\n",
      "new_height = int(new_width/ratio)  # (!) set new height, must be an integer\n",
      "\n",
      "# Update layout object\n",
      "fig['layout'].update(\n",
      "    autosize=False,  # allow custom size (set already, only for completeness here)\n",
      "    width=new_width,    # link new width value\n",
      "    height=new_height,  # link new height value\n",
      "    font=Font(size=7),       # update global font size\n",
      "    titlefont=Font(size=12)  #  as well as the title font size \n",
      ")"
     ],
     "language": "python",
     "metadata": {},
     "outputs": [],
     "prompt_number": 35
    },
    {
     "cell_type": "code",
     "collapsed": false,
     "input": [
      "# (@) Send figure object to Plotly and show result in notebook \n",
      "py.iplot(fig, filename='s1_hubble', height=new_height)\n",
      "\n",
      "# (-) adjust height of output cell with 'height'"
     ],
     "language": "python",
     "metadata": {},
     "outputs": [
      {
       "html": [
        "<iframe id=\"igraph\" scrolling=\"no\" style=\"border:none;\"seamless=\"seamless\" src=\"https://plot.ly/~etpinard/441.embed\" height=\"307\" width=\"100%\"></iframe>"
       ],
       "metadata": {},
       "output_type": "pyout",
       "prompt_number": 36,
       "text": [
        "<plotly.tools.PlotlyDisplay at 0x7f3e3f76bc90>"
       ]
      }
     ],
     "prompt_number": 36
    },
    {
     "cell_type": "markdown",
     "metadata": {},
     "source": [
      "To sum up, styling a Plotly figure requires nothing more than filling in keys with values in appropriate graph objects. By the time you are done reading the User Guide, you will have seen in action (almost) all of Plotly's style options."
     ]
    },
    {
     "cell_type": "markdown",
     "metadata": {},
     "source": [
      "<hr>\n",
      "    \n",
      "<h4 style=\"font-size:14pt;\">Go to\n",
      "\n",
      "[Section 2 --- Bar Charts](https://plot.ly/python/bar-charts-tutorial) </h4>\n",
      "\n",
      "<h4 style=\"font-size:14pt;\">Go to\n",
      "\n",
      "[Section 0 --- Getting Started with Plotly](https://plot.ly/python/overview)  </h4>\n",
      "\n",
      "<h4 style=\"font-size:14pt;\">Go to\n",
      "\n",
      "[top of page](#Plotly's-Python-API-User-Guide) </h4>\n",
      "\n",
      "<h4 style=\"font-size:14pt;\">Go to User Guide's\n",
      "\n",
      "[homepage](https://plot.ly/python/user-guide) </h4>\n",
      "  \n",
      "<hr>"
     ]
    },
    {
     "cell_type": "markdown",
     "metadata": {},
     "source": [
      "<div style=\"float:right; \\\">\n",
      "    <img src=\"http://i.imgur.com/4vwuxdJ.png\" \n",
      " align=right style=\"float:right; margin-left: 5px; margin-top: -10px\" />\n",
      "</div>\n",
      "\n",
      "<h4>Got Questions or Feedback? </h4>\n",
      "\n",
      "About <a href=\"https://plot.ly\" target=\"_blank\">Plotly</a>\n",
      "\n",
      "* email: feedback@plot.ly \n",
      "* tweet: \n",
      "<a href=\"https://twitter.com/plotlygraphs\" target=\"_blank\">@plotlygraphs</a>\n",
      "\n",
      "About the <a href=\"https://github.com/plotly/python-user-guide\" target=\"_blank\">User Guide</a>\n",
      " \n",
      "* email: etienne@plot.ly\n",
      "* tweet: <a href=\"https://twitter.com/etpinard\" target=\"_blank\">@etpinard</a>\n",
      "\n",
      "<h4 style=\"margin-top:30px;\">Notebook styling ideas</h4>\n",
      "\n",
      "Big thanks to\n",
      "\n",
      "* <a href=\"http://nbviewer.ipython.org/github/CamDavidsonPilon/Probabilistic-Programming-and-Bayesian-Methods-for-Hackers/blob/master/Prologue/Prologue.ipynb\" target=\"_blank\">Cam Davidson-Pilon</a>\n",
      "* <a href=\"http://lorenabarba.com/blog/announcing-aeropython/#.U1ULXdX1LJ4.google_plusone_share\" target=\"_blank\">Lorena A. Barba</a>\n",
      "\n",
      "<br>"
     ]
    },
    {
     "cell_type": "code",
     "collapsed": false,
     "input": [
      "# CSS styling within IPython notebook\n",
      "from IPython.display import display, HTML\n",
      "display(HTML(open('../custom.css').read()))"
     ],
     "language": "python",
     "metadata": {},
     "outputs": [
      {
       "html": [
        "<style>\n",
        "    div.cell{\n",
        "        width: 850px;\n",
        "        margin-left: 10% !important;\n",
        "        margin-right: auto;\n",
        "    }\n",
        "    h1 {\n",
        "        font-family: \"Open sans\",verdana,arial,sans-serif;\n",
        "    }\n",
        "    .text_cell_render h1 {\n",
        "        font-weight: 200;\n",
        "        font-size: 40pt;\n",
        "        line-height: 100%;\n",
        "        color:#447adb;\n",
        "        margin-bottom: 0em;\n",
        "        margin-top: 0em;\n",
        "        display: block;\n",
        "        white-space: nowrap;\n",
        "    } \n",
        "    h2 {\n",
        "        font-family: \"Open sans\",verdana,arial,sans-serif;\n",
        "        text-indent:1em;\n",
        "    }\n",
        "    .text_cell_render h2 {\n",
        "        font-weight: 200;\n",
        "        font-size: 20pt;\n",
        "        font-style: italic;\n",
        "        line-height: 100%;\n",
        "        color:#447adb;\n",
        "        margin-bottom: 1.5em;\n",
        "        margin-top: 0.5em;\n",
        "        display: block;\n",
        "        white-space: nowrap;\n",
        "    } \n",
        "    h3 {\n",
        "        font-family: \"Open sans\",verdana,arial,sans-serif;\n",
        "    }\n",
        "    .text_cell_render h3 {\n",
        "        font-weight: 300;\n",
        "        font-size: 18pt;\n",
        "        line-height: 100%;\n",
        "        color:#447adb;\n",
        "        margin-bottom: 0.5em;\n",
        "        margin-top: 2em;\n",
        "        display: block;\n",
        "        white-space: nowrap;\n",
        "    }\n",
        "    h4 {\n",
        "        font-family: \"Open sans\",verdana,arial,sans-serif;\n",
        "    }\n",
        "    .text_cell_render h4 {\n",
        "        font-weight: 300;\n",
        "        font-size: 16pt;\n",
        "        color:#447adb;\n",
        "        margin-bottom: 0.5em;\n",
        "        margin-top: 0.5em;\n",
        "        display: block;\n",
        "        white-space: nowrap;\n",
        "    }\n",
        "    h5 {\n",
        "        font-family: \"Open sans\",verdana,arial,sans-serif;\n",
        "    }\n",
        "    .text_cell_render h5 {\n",
        "        font-weight: 300;\n",
        "        font-style: normal;\n",
        "        color: #1d3b84;\n",
        "        font-size: 16pt;\n",
        "        margin-bottom: 0em;\n",
        "        margin-top: 1.5em;\n",
        "        display: block;\n",
        "        white-space: nowrap;\n",
        "    }\n",
        "    div.text_cell_render{\n",
        "        font-family: \"Open sans\",verdana,arial,sans-serif;\n",
        "        line-height: 135%;\n",
        "        font-size: 125%;\n",
        "        width:750px;\n",
        "        margin-left:auto;\n",
        "        margin-right:auto;\n",
        "        text-align:justify;\n",
        "        text-justify:inter-word;\n",
        "    }\n",
        "    div.output_subarea.output_text.output_pyout {\n",
        "        overflow-x: auto;\n",
        "        overflow-y: scroll;\n",
        "        max-height: 300px;\n",
        "    }\n",
        "    div.output_subarea.output_stream.output_stdout.output_text {\n",
        "        overflow-x: auto;\n",
        "        overflow-y: scroll;\n",
        "        max-height: 300px;\n",
        "    }\n",
        "    div.output_subarea.output_html.rendered_html {\n",
        "        overflow-x: scroll;\n",
        "        max-width: 100%;\n",
        "      /*  overflow-y: scroll; */\n",
        "      /*  max-height: 300px;   */\n",
        "    }\n",
        "    code{\n",
        "      font-size: 78%;\n",
        "    }\n",
        "    .rendered_html code{\n",
        "        background-color: transparent;\n",
        "        white-space: inherit;   \n",
        "    }\n",
        "    ul{\n",
        "        /* color:#447adb; */  \n",
        "        margin: 2em;\n",
        "    }\n",
        "    ul li{\n",
        "        padding-left: 0.5em; \n",
        "        margin-bottom: 0.5em; \n",
        "        margin-top: 0.5em; \n",
        "    }\n",
        "    ul li li{\n",
        "        padding-left: 0.2em; \n",
        "        margin-bottom: 0.2em; \n",
        "        margin-top: 0.2em; \n",
        "    }\n",
        "    ol{\n",
        "        /* color:#447adb; */  \n",
        "        margin: 2em;\n",
        "    }\n",
        "    ol li{\n",
        "        padding-left: 0.5em; \n",
        "        margin-bottom: 0.5em; \n",
        "        margin-top: 0.5em; \n",
        "    }\n",
        "    /*.prompt{\n",
        "        display: None;\n",
        "    } */\n",
        "    ul li{\n",
        "        padding-left: 0.5em; \n",
        "        margin-bottom: 0.5em; \n",
        "        margin-top: 0.2em; \n",
        "    }\n",
        "    a:link{\n",
        "       font-weight: bold;\n",
        "       color:#447adb;\n",
        "    }\n",
        "    a:visited{\n",
        "       font-weight: bold;\n",
        "       color: #1d3b84;\n",
        "    }\n",
        "    a:hover{\n",
        "       font-weight: bold;\n",
        "       color: #1d3b84;\n",
        "    }\n",
        "    a:focus{\n",
        "       font-weight: bold;\n",
        "       color:#447adb;\n",
        "    }\n",
        "    a:active{\n",
        "       font-weight: bold;\n",
        "       color:#447adb;\n",
        "    }\n",
        "    .rendered_html :link {\n",
        "       text-decoration: none; \n",
        "    }\n",
        "    .rendered_html :hover {\n",
        "       text-decoration: none; \n",
        "    }\n",
        "    .rendered_html :visited {\n",
        "      text-decoration: none;\n",
        "    }\n",
        "    .rendered_html :focus {\n",
        "      text-decoration: none;\n",
        "    }\n",
        "    .rendered_html :active {\n",
        "      text-decoration: none;\n",
        "    }\n",
        "    .warning{\n",
        "        color: rgb( 240, 20, 20 )\n",
        "    } \n",
        "    hr {\n",
        "      color: #f3f3f3;\n",
        "      background-color: #f3f3f3;\n",
        "      height: 1px;\n",
        "    }\n",
        "    blockquote{\n",
        "      display:block;\n",
        "      background: #f3f3f3;\n",
        "      font-family: \"Open sans\",verdana,arial,sans-serif;\n",
        "      width:610px;\n",
        "      padding: 15px 15px 15px 15px;\n",
        "      text-align:justify;\n",
        "      text-justify:inter-word;\n",
        "      }\n",
        "      blockquote p {\n",
        "        margin-bottom: 0;\n",
        "        line-height: 125%;\n",
        "        font-size: 100%;\n",
        "        text-align: center;\n",
        "      }\n",
        "   /* element.style {\n",
        "    } */  \n",
        "</style>\n",
        "<script>\n",
        "    MathJax.Hub.Config({\n",
        "                        TeX: {\n",
        "                           extensions: [\"AMSmath.js\"]\n",
        "                           },\n",
        "                tex2jax: {\n",
        "                    inlineMath: [ [\"$\",\"$\"], [\"\\\\(\",\"\\\\)\"] ],\n",
        "                    displayMath: [ [\"$$\",\"$$\"], [\"\\\\[\",\"\\\\]\"] ]\n",
        "                },\n",
        "                displayAlign: \"center\", // Change this to \"center\" to center equations.\n",
        "                \"HTML-CSS\": {\n",
        "                    styles: {\".MathJax_Display\": {\"margin\": 4}}\n",
        "                }\n",
        "        });\n",
        "</script>\n"
       ],
       "metadata": {},
       "output_type": "display_data",
       "text": [
        "<IPython.core.display.HTML at 0x7f3e3f76ba10>"
       ]
      }
     ],
     "prompt_number": 37
    }
   ],
   "metadata": {}
  }
 ]
}