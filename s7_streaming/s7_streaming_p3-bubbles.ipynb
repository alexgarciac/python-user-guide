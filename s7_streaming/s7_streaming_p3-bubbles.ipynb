{
 "metadata": {
  "name": "",
  "signature": "sha256:ad20cf26d17101e62009ebb24a57cc632550297de0f59473565e8d12964b2ae8"
 },
 "nbformat": 3,
 "nbformat_minor": 0,
 "worksheets": [
  {
   "cells": [
    {
     "cell_type": "heading",
     "level": 1,
     "metadata": {},
     "source": [
      "Plotly's Python API User Guide"
     ]
    },
    {
     "cell_type": "heading",
     "level": 2,
     "metadata": {},
     "source": [
      "Section 7: Plotly's Streaming API part 3"
     ]
    },
    {
     "cell_type": "markdown",
     "metadata": {},
     "source": [
      "Welcome to Plotly's Python API User Guide. \n",
      "\n",
      "> Links to the other sections are on the User Guide's [homepage](https://plot.ly/python/user-guide#Table-of-Contents:) <br>\n",
      "The Github repository is available \n",
      "<a href=\"https://github.com/plotly/python-user-guide\" target=\"_blank\">here</a>"
     ]
    },
    {
     "cell_type": "markdown",
     "metadata": {},
     "source": [
      "Section 7 is divided, into separate notebooks, as follows:\n",
      "\n",
      "* [7.0 Streaming API introduction](https://plot.ly/python/streaming-tutorial)\n",
      "\n",
      "* [7.1 A first Plotly streaming plot](https://plot.ly/python/streaming-line-tutorial)\n",
      "\n",
      "* [7.2 Never-ending double pendulum simulation](https://plot.ly/python/streaming-double-pendulum-tutorial)\n",
      "\n",
      "* [7.3 An animated version of Hans Rosling's bubble chart](https://plot.ly/python/streaming-bubbles-tutorial)"
     ]
    },
    {
     "cell_type": "markdown",
     "metadata": {},
     "source": [
      "<hr>"
     ]
    },
    {
     "cell_type": "markdown",
     "metadata": {},
     "source": [
      "The User Guide assumes version 1.0 and up of Plotly's Python API. \n",
      "\n",
      "Check which version is installed on your machine and please upgrade if needed. "
     ]
    },
    {
     "cell_type": "code",
     "collapsed": false,
     "input": [
      "# (*) Import plotly package\n",
      "import plotly\n",
      "\n",
      "# Check plolty version (if not latest, please upgrade)\n",
      "plotly.__version__"
     ],
     "language": "python",
     "metadata": {},
     "outputs": [
      {
       "metadata": {},
       "output_type": "pyout",
       "prompt_number": 1,
       "text": [
        "'1.6.6'"
       ]
      }
     ],
     "prompt_number": 1
    },
    {
     "cell_type": "markdown",
     "metadata": {},
     "source": [
      "See the User Guide's <a href=\"https://plot.ly/python/user-guide#Installation-guidelines\" target=\"_blank\">homepage</a> for more info on installation and upgrading."
     ]
    },
    {
     "cell_type": "markdown",
     "metadata": {},
     "source": [
      "Import a few modules and sign in to Plotly using our credentials file:"
     ]
    },
    {
     "cell_type": "code",
     "collapsed": false,
     "input": [
      "# (*) To communicate with Plotly's server, sign in with credentials file\n",
      "import plotly.plotly as py  \n",
      "\n",
      "# (*) Useful Python/Plotly tools\n",
      "import plotly.tools as tls   \n",
      "\n",
      "# (*) Graph objects to piece together plots\n",
      "from plotly.graph_objs import *\n",
      "\n",
      "import numpy as np  # (*) numpy for math functions and arrays"
     ],
     "language": "python",
     "metadata": {},
     "outputs": [],
     "prompt_number": 2
    },
    {
     "cell_type": "markdown",
     "metadata": {},
     "source": [
      "If you are not familiar with credentials files, refer to the User Guide's <a href=\"https://plot.ly/python/user-guide#Step-6\" target=\"_blank\">homepage</a>."
     ]
    },
    {
     "cell_type": "markdown",
     "metadata": {},
     "source": [
      "Finally, retrieve the stream ids in our credentials file as set up in <a href=\"https://plot.ly/python/streaming-tutorial#Get-your-stream-tokens\" target=\"_blank\">subsection 7.1</a>:"
     ]
    },
    {
     "cell_type": "code",
     "collapsed": false,
     "input": [
      "stream_ids = tls.get_credentials_file()['stream_ids']"
     ],
     "language": "python",
     "metadata": {},
     "outputs": [],
     "prompt_number": 3
    },
    {
     "cell_type": "heading",
     "level": 3,
     "metadata": {},
     "source": [
      "7.3 An animated version of Hans Rosling's bubble chart"
     ]
    },
    {
     "cell_type": "markdown",
     "metadata": {},
     "source": [
      "Our next plot is an animated version of Hans Roslin's bubble chart found <a href=\"https://plot.ly/python/bubble-charts-tutorial\" target=\"_blank\">section 3</a>. The GapMinder Data <a href=\"https://github.com/plotly/python-user-guide/blob/master/s3_bubble-charts\" target=\"_blank\">file</a> contains data for several years. Using Plotly's streaming API, we will show life expentancy of each of the world's countries versus their GDP, one year after the other as an animation.\n",
      "\n",
      "We use pandas to manipulate the data file:"
     ]
    },
    {
     "cell_type": "code",
     "collapsed": false,
     "input": [
      "# (*) Pandas for data manipulation\n",
      "import pandas as pd \n",
      "\n",
      "# (*) Urllib2 for in-session downloads\n",
      "import urllib2\n",
      "\n",
      "# The datasets' url. Thanks Jennifer Bryan!\n",
      "data_url = 'http://www.stat.ubc.ca/~jenny/notOcto/STAT545A/examples/\\\n",
      "gapminder/data/gapminderDataFiveYear.txt'\n",
      "\n",
      "data_file = urllib2.urlopen(data_url)  # import data file into session\n",
      "\n",
      "# Read csv file and define dataframe object (df for dataframe)\n",
      "df = pd.read_csv(data_file, sep='\\t')"
     ],
     "language": "python",
     "metadata": {},
     "outputs": [],
     "prompt_number": 4
    },
    {
     "cell_type": "markdown",
     "metadata": {},
     "source": [
      "Find how many years there are in the dataframe:"
     ]
    },
    {
     "cell_type": "code",
     "collapsed": false,
     "input": [
      "print(len(df['year'].unique()))"
     ],
     "language": "python",
     "metadata": {},
     "outputs": [
      {
       "output_type": "stream",
       "stream": "stdout",
       "text": [
        "12\n"
       ]
      }
     ],
     "prompt_number": 5
    },
    {
     "cell_type": "markdown",
     "metadata": {},
     "source": [
      "Ok, so our animation will show data for 12 different years.\n",
      "\n",
      "Now, the number of countries for each year in the dataframe is:"
     ]
    },
    {
     "cell_type": "code",
     "collapsed": false,
     "input": [
      "for year, X in df.groupby('year'):\n",
      "   print(year, len(X['country']))"
     ],
     "language": "python",
     "metadata": {},
     "outputs": [
      {
       "output_type": "stream",
       "stream": "stdout",
       "text": [
        "(1952, 142)\n",
        "(1957, 142)\n",
        "(1962, 142)\n",
        "(1967, 142)\n",
        "(1972, 142)\n",
        "(1977, 142)\n",
        "(1982, 142)\n",
        "(1987, 142)\n",
        "(1992, 142)\n",
        "(1997, 142)\n",
        "(2002, 142)\n",
        "(2007, 142)\n"
       ]
      }
     ],
     "prompt_number": 6
    },
    {
     "cell_type": "markdown",
     "metadata": {},
     "source": [
      "Each year in the dataframe has data for the same number of countries; we have one less thing to worry about.\n",
      "\n",
      "Finally, the minimum and maximum values of the x and y variables are:"
     ]
    },
    {
     "cell_type": "code",
     "collapsed": false,
     "input": [
      "df['gdpPercap'].min(), df['gdpPercap'].max()"
     ],
     "language": "python",
     "metadata": {},
     "outputs": [
      {
       "metadata": {},
       "output_type": "pyout",
       "prompt_number": 7,
       "text": [
        "(241.16587650000002, 113523.1329)"
       ]
      }
     ],
     "prompt_number": 7
    },
    {
     "cell_type": "code",
     "collapsed": false,
     "input": [
      "df['lifeExp'].min(), df['lifeExp'].max()"
     ],
     "language": "python",
     "metadata": {},
     "outputs": [
      {
       "metadata": {},
       "output_type": "pyout",
       "prompt_number": 8,
       "text": [
        "(23.599, 82.602999999999994)"
       ]
      }
     ],
     "prompt_number": 8
    },
    {
     "cell_type": "markdown",
     "metadata": {},
     "source": [
      "We will use these values to set up the range of the plot's x-axis and y-axis in the layout object shortly.\n",
      "\n",
      "First, set up a <a href=\"https://plot.ly/python/streaming-line-tutorial#7.1-A-first-Plotly-streaming-plot\" target=\"_blank\">stream id</a> graph object:"
     ]
    },
    {
     "cell_type": "code",
     "collapsed": false,
     "input": [
      "# (!) Get stream id from stream id list, \n",
      "#     only one needed for this plot\n",
      "stream_id = stream_ids[3]\n",
      "\n",
      "# Make a stream id object linking stream id to 'token' key\n",
      "stream = Stream(token=stream_id) \n",
      "\n",
      "# no need to set `'maxpoints'` for this plot"
     ],
     "language": "python",
     "metadata": {},
     "outputs": [],
     "prompt_number": 9
    },
    {
     "cell_type": "markdown",
     "metadata": {},
     "source": [
      "Next, initialize the plot's trace and layout objects:"
     ]
    },
    {
     "cell_type": "code",
     "collapsed": false,
     "input": [
      "# Initialize trace of streaming plot by embedding the unique stream_id\n",
      "trace1 = Scatter(\n",
      "    x=[],     # init. data\n",
      "    y=[], \n",
      "    text=[],  # init. hover text\n",
      "    mode='markers',           \n",
      "    marker=Marker(\n",
      "        color=[],  # init. marker color\n",
      "        size=[],   # init. marker sizes\n",
      "        opacity=0.6,          # partly transparent markers\n",
      "        line=Line(width=0.0)  # remove marker borders\n",
      "    ),\n",
      "    stream=stream  # (!) embed stream id, 1 per trace\n",
      ")\n",
      "\n",
      "data = Data([trace1])"
     ],
     "language": "python",
     "metadata": {},
     "outputs": [],
     "prompt_number": 10
    },
    {
     "cell_type": "code",
     "collapsed": false,
     "input": [
      "# Set plot and axis titles\n",
      "title = \"Fig 7.3a: Animated Hans Rosling bubble chart\"  # plot's title\n",
      "x_title = \"Gross Domestic Product per Capita [in USD of the year 2000]\"\n",
      "y_title = \"Life Expentancy [in years]\"\n",
      "\n",
      "# Define a dictionary of axis style options\n",
      "axis_style = dict(     \n",
      "    zeroline=False,       # remove thick zero line\n",
      "    gridcolor='#FFFFFF',  # white grid lines\n",
      "    ticks='outside',      # draw ticks outside axes \n",
      "    ticklen=8,            # tick length\n",
      "    tickwidth=1.5         #   and width\n",
      ")\n",
      "\n",
      "# Initialize layout object\n",
      "layout = Layout(\n",
      "    title=title,  # set plot title\n",
      "    xaxis=XAxis(\n",
      "        axis_style,            # add style options\n",
      "        title=x_title,         # set x-axis title\n",
      "        range=[-0.9e4,1.15e5]  # set range\n",
      "    ),\n",
      "    yaxis=YAxis(\n",
      "        axis_style,            # add style options\n",
      "        title=y_title,         # y-axis title\n",
      "        range=[21,89]          # set range\n",
      "    ),  \n",
      "    showlegend=False,         # remove legend (info in hover)\n",
      "    hovermode='closest',      # (!) hover -> closest data pt\n",
      "    plot_bgcolor='#EFECEA',   # set plot color to grey\n",
      "    autosize=False,  # turn off autosize\n",
      "    width=650,       # plot width\n",
      "    height=500,      # plot height\n",
      ")"
     ],
     "language": "python",
     "metadata": {},
     "outputs": [],
     "prompt_number": 11
    },
    {
     "cell_type": "markdown",
     "metadata": {},
     "source": [
      "Initialize the figure with a call to Plotly:"
     ]
    },
    {
     "cell_type": "code",
     "collapsed": false,
     "input": [
      "# Make a figure object\n",
      "fig = Figure(data=data, layout=layout)\n",
      "\n",
      "# (@) Send fig to Plotly, initialize streaming plot, open new tab\n",
      "unique_url = py.plot(fig, filename='s7_bubbles')"
     ],
     "language": "python",
     "metadata": {},
     "outputs": [],
     "prompt_number": 12
    },
    {
     "cell_type": "markdown",
     "metadata": {},
     "source": [
      "You should have, opened in a new tab, something like (in our old UI)\n",
      "\n",
      "<img src=\"http://i.imgur.com/gvKkcTw.png\" style=\"padding-top:1em; padding-bottom:1em;\">"
     ]
    },
    {
     "cell_type": "markdown",
     "metadata": {},
     "source": [
      "Before starting to stream our data, define a few functions to help us build the data object to be streamed. For more complete description of the options used below, refer to <a href=\"https://plot.ly/python/bubble-charts-tutorial\", target=\"_blank\">section 3</a> of the User Guide."
     ]
    },
    {
     "cell_type": "code",
     "collapsed": false,
     "input": [
      "# (!) Set a reference for 'size' values (i.e. a population-to-pixel scaling).\n",
      "#     Here the max bubble area will be on the order of 100 pixels\n",
      "sizeref = df['pop'].max() / 1e2**2\n",
      "\n",
      "# (!) Instead of defining a 'sizemode', the bubble's size will be given by\n",
      "#     sqrt(pop / sizeref) \n",
      "\n",
      "# Define a dictionary of color, one for each continent\n",
      "colors = dict(\n",
      "    Asia='#1f77b4', \n",
      "    Europe='#ff7f0e', \n",
      "    Africa='#2ca02c',\n",
      "    Americas='#d62728',\n",
      "    Oceania='#9467bd'\n",
      ")\n",
      "\n",
      "# Define a hover-text generating function (returns a list of strings)\n",
      "def make_text(X, year):\n",
      "    return 'Year: %s\\\n",
      "    <br>Country: %s\\\n",
      "    <br>Life Expectancy: %s years\\\n",
      "    <br>GDP per capita: %s $\\\n",
      "    <br>Population: %s million' \\\n",
      "    % (year, X['country'], X['lifeExp'], X['gdpPercap'], X['pop']/1e6)"
     ],
     "language": "python",
     "metadata": {},
     "outputs": [],
     "prompt_number": 13
    },
    {
     "cell_type": "markdown",
     "metadata": {},
     "source": [
      "In addition, to keep track of the years in the animation, "
     ]
    },
    {
     "cell_type": "code",
     "collapsed": false,
     "input": [
      "# Define an annotation-generating function (to label year and data source)\n",
      "def make_anno(year):\n",
      "    anno_text = '<b>Year: {}</b><br>Data source: GapMinder'.format(year)\n",
      "    return dict(\n",
      "        text=anno_text,  # set annotation text\n",
      "        showarrow=False, # remove arrow \n",
      "        xref='paper',  # use paper coords\n",
      "        yref='paper',  #  for both coordinates\n",
      "        x=0.95,  # position's x-coord\n",
      "        y=0.05,  #   and y-coord\n",
      "        font=Font(size=14),    # increase font size (default is 12)\n",
      "        bgcolor='#FFFFFF',     # white background\n",
      "        borderpad=4            # space bt. border and text (in px)\n",
      ")"
     ],
     "language": "python",
     "metadata": {},
     "outputs": [],
     "prompt_number": 14
    },
    {
     "cell_type": "markdown",
     "metadata": {},
     "source": [
      "Now, open the stream via the stream link object:"
     ]
    },
    {
     "cell_type": "code",
     "collapsed": false,
     "input": [
      "# (@) Make instance of the Stream link object, \n",
      "#     with same stream id as Stream id object\n",
      "s = py.Stream(stream_id)\n",
      "\n",
      "# (@) Open the stream\n",
      "s.open()"
     ],
     "language": "python",
     "metadata": {},
     "outputs": [],
     "prompt_number": 15
    },
    {
     "cell_type": "markdown",
     "metadata": {},
     "source": [
      "In our next plot, we stream not only x and y coordinates, but also marker size, marker color, hover text info and annotations. As always for more info on how to do so, let's call `help()`:"
     ]
    },
    {
     "cell_type": "code",
     "collapsed": false,
     "input": [
      "help(s.write)  # help for writing onto stream"
     ],
     "language": "python",
     "metadata": {},
     "outputs": [
      {
       "output_type": "stream",
       "stream": "stdout",
       "text": [
        "Help on method write in module plotly.plotly.plotly:\n",
        "\n",
        "write(self, trace, layout=None, validate=True, reconnect_on=(200, '', 408)) method of plotly.plotly.plotly.Stream instance\n",
        "    Write to an open stream.\n",
        "    \n",
        "    Once you've instantiated a 'Stream' object with a 'stream_id',\n",
        "    you can 'write' to it in real time.\n",
        "    \n",
        "    positional arguments:\n",
        "    trace - A valid plotly trace object (e.g., Scatter, Heatmap, etc.).\n",
        "            Not all keys in these are `stremable` run help(Obj) on the type\n",
        "            of trace your trying to stream, for each valid key, if the key\n",
        "            is streamable, it will say 'streamable = True'. Trace objects\n",
        "            must be dictionary-like.\n",
        "    \n",
        "    keyword arguments:\n",
        "    layout (default=None) - A valid Layout object\n",
        "                            Run help(plotly.graph_objs.Layout)\n",
        "    validate (default = True) - Validate this stream before sending?\n",
        "                                This will catch local errors if set to True.\n",
        "    \n",
        "    Some valid keys for trace dictionaries:\n",
        "        'x', 'y', 'text', 'z', 'marker', 'line'\n",
        "    \n",
        "    Examples:\n",
        "    >>> write(dict(x=1, y=2))  # assumes 'scatter' type\n",
        "    >>> write(Bar(x=[1, 2, 3], y=[10, 20, 30]))\n",
        "    >>> write(Scatter(x=1, y=2, text='scatter text'))\n",
        "    >>> write(Scatter(x=1, y=3, marker=Marker(color='blue')))\n",
        "    >>> write(Heatmap(z=[[1, 2, 3], [4, 5, 6]]))\n",
        "    \n",
        "    The connection to plotly's servers is checked before writing\n",
        "    and reconnected if disconnected and if the response status code\n",
        "    is in `reconnect_on`.\n",
        "    \n",
        "    For more help, see: `help(plotly.plotly.Stream)`\n",
        "    or see examples and tutorials here:\n",
        "    http://nbviewer.ipython.org/github/plotly/python-user-guide/blob/master/s7_streaming/s7_streaming.ipynb\n",
        "\n"
       ]
      }
     ],
     "prompt_number": 16
    },
    {
     "cell_type": "markdown",
     "metadata": {},
     "source": [
      "So, `s.write()` accepts a dictionary of data specifications as its first positional argument (as we have done in the previous subsections). In contrast, users can send a dictionary of layout specifications to the stream via the `layout` keyword argument.\n",
      "\n",
      "Now, let's loop through all years in the dataframe and plot every country one at a time from the lowest life expentancy to the highest (for fun):"
     ]
    },
    {
     "cell_type": "code",
     "collapsed": false,
     "input": [
      "# (*) Import module keep track of time \n",
      "import time \n",
      "\n",
      "# Delay start of stream by 5 sec (time to switch tabs)\n",
      "time.sleep(5)\n",
      "\n",
      "# Make list of (unique) years in the dataframe\n",
      "years = df['year'].unique().tolist()\n",
      "\n",
      "# Loop through all years in df!\n",
      "for year in years:  \n",
      "    \n",
      "    # Find indices in df corresponding to year\n",
      "    i_year = (df['year']==year)\n",
      "\n",
      "    # Grab all rows correponding to year\n",
      "    df_year = df[i_year] \n",
      "    \n",
      "    # Sort dataframe by life expentency in accending order\n",
      "    df_year_sorted = df_year.sort(columns='lifeExp', ascending=True)\n",
      "       \n",
      "    s_data = {}  # initialize data dict. to be streamed\n",
      "    s_layout = dict(annotations=[make_anno(year)]) # layout dict. to be streamed\n",
      "    \n",
      "    # Loop through each row of sorted df\n",
      "    for i_X, X in df_year_sorted.iterrows():\n",
      "        \n",
      "        s_data['x'] = X['gdpPercap']   # GDP on the x-xaxis\n",
      "        s_data['y'] = X['lifeExp']     # life Exp on th y-axis\n",
      "        s_data['marker'] = dict(\n",
      "            color=colors[X['continent']] ,  # color by continent\n",
      "            size=np.sqrt(X['pop']/sizeref)  # size by population\n",
      "        )\n",
      "        s_data['text'] = make_text(X, year) # hover text info\n",
      "    \n",
      "        # (@) Write data and layout dict. to stream, every 0.1 sec\n",
      "        s.write(s_data, layout=s_layout)                    \n",
      "        time.sleep(0.1)                                                                                                      \n",
      "    \n",
      "    # When all countries are plotted, hold for 2 sec and clear data on plot\n",
      "    if year != years[-1]:  # except for last year in the dataframe\n",
      "        time.sleep(2)   \n",
      "        \n",
      "        s_data = dict(\n",
      "            x=[],\n",
      "            y=[],\n",
      "            marker=dict(\n",
      "                color=[],\n",
      "                size=[]\n",
      "            ),\n",
      "            text=[]\n",
      "        )\n",
      "        \n",
      "        s.write(s_data, layout=s_layout) # clear data, keep layout\n",
      "         \n",
      "s.close()  # (!) close stream when done"
     ],
     "language": "python",
     "metadata": {},
     "outputs": [],
     "prompt_number": 17
    },
    {
     "cell_type": "markdown",
     "metadata": {},
     "source": [
      "To see the results, watch the video below showing a screen capture of our animated plot during the data stream (in our old UI):"
     ]
    },
    {
     "cell_type": "code",
     "collapsed": false,
     "input": [
      "from IPython.display import YouTubeVideo\n",
      "YouTubeVideo('ZPHE888xSrw', width='100%', height='350')"
     ],
     "language": "python",
     "metadata": {},
     "outputs": [
      {
       "html": [
        "\n",
        "        <iframe\n",
        "            width=\"100%\"\n",
        "            height=350\"\n",
        "            src=\"https://www.youtube.com/embed/ZPHE888xSrw\"\n",
        "            frameborder=\"0\"\n",
        "            allowfullscreen\n",
        "        ></iframe>\n",
        "        "
       ],
       "metadata": {},
       "output_type": "pyout",
       "prompt_number": 18,
       "text": [
        "<IPython.lib.display.YouTubeVideo at 0x7faa253df150>"
       ]
      }
     ],
     "prompt_number": 18
    },
    {
     "cell_type": "markdown",
     "metadata": {},
     "source": [
      "This could make a really nice screensaver. \n",
      "\n",
      "Plotly allows you to stream data points, marker specifications and layout options with ease."
     ]
    },
    {
     "cell_type": "markdown",
     "metadata": {},
     "source": [
      "Subsections of section 7:\n",
      "\n",
      "* [7.0 Streaming API introduction](https://plot.ly/python/streaming-tutorial)\n",
      "\n",
      "* [7.1 A first Plotly streaming plot](https://plot.ly/python/streaming-line-tutorial)\n",
      "\n",
      "* [7.2 Never-ending double pendulum simulation](https://plot.ly/python/streaming-double-pendulum-tutorial)\n",
      "\n",
      "* [7.3 An animated version of Hans Rosling's bubble chart](https://plot.ly/python/streaming-bubbles-tutorial)\n",
      "    "
     ]
    },
    {
     "cell_type": "markdown",
     "metadata": {},
     "source": [
      "<hr>\n",
      "\n",
      "<h4 style=\"font-size:14pt;\">Go to\n",
      "\n",
      "[Section 8  --- 3D Plots](https://plot.ly/python/3d-plots-tutorial) </h4>\n",
      "\n",
      "<h4 style=\"font-size:14pt;\">Go to\n",
      "\n",
      "[Section 6  --- Convert your Matplotlib plots to Plotly](https://plot.ly/python/matplotlib-to-plotly-tutorial) </h4>\n",
      "\n",
      "<h4 style=\"font-size:14pt;\">Go to\n",
      "\n",
      "[top of page](#Plotly's-Python-API-User-Guide) </h4>\n",
      "\n",
      "<h4 style=\"font-size:14pt;\">Go to User Guide's\n",
      "\n",
      "[homepage](https://plot.ly/python/user-guide) </h4>\n",
      "    \n",
      "<hr>"
     ]
    },
    {
     "cell_type": "markdown",
     "metadata": {},
     "source": [
      "<div style=\"float:right; \\\">\n",
      "    <img src=\"http://i.imgur.com/4vwuxdJ.png\" \n",
      " align=right style=\"float:right; margin-left: 5px; margin-top: -10px\" />\n",
      "</div>\n",
      "\n",
      "<h4>Got Questions or Feedback? </h4>\n",
      "\n",
      "About <a href=\"https://plot.ly\" target=\"_blank\">Plotly</a>\n",
      "\n",
      "* email: feedback@plot.ly \n",
      "* tweet: \n",
      "<a href=\"https://twitter.com/plotlygraphs\" target=\"_blank\">@plotlygraphs</a>\n",
      "\n",
      "About the <a href=\"https://github.com/plotly/python-user-guide\" target=\"_blank\">User Guide</a>\n",
      " \n",
      "* email: etienne@plot.ly\n",
      "* tweet: <a href=\"https://twitter.com/etpinard\" target=\"_blank\">@etpinard</a>\n",
      "\n",
      "<h4 style=\"margin-top:30px;\">Notebook styling ideas</h4>\n",
      "\n",
      "Big thanks to\n",
      "\n",
      "* <a href=\"http://nbviewer.ipython.org/github/CamDavidsonPilon/Probabilistic-Programming-and-Bayesian-Methods-for-Hackers/blob/master/Prologue/Prologue.ipynb\" target=\"_blank\">Cam Davidson-Pilon</a>\n",
      "* <a href=\"http://lorenabarba.com/blog/announcing-aeropython/#.U1ULXdX1LJ4.google_plusone_share\" target=\"_blank\">Lorena A. Barba</a>\n",
      "\n",
      "<br>"
     ]
    },
    {
     "cell_type": "code",
     "collapsed": false,
     "input": [
      "# CSS styling within IPython notebook\n",
      "from IPython.display import display, HTML\n",
      "display(HTML(open('../custom.css').read()))"
     ],
     "language": "python",
     "metadata": {},
     "outputs": [
      {
       "html": [
        "<style>\n",
        "    div.cell{\n",
        "        width: 850px;\n",
        "        margin-left: 10% !important;\n",
        "        margin-right: auto;\n",
        "    }\n",
        "    h1 {\n",
        "        font-family: \"Open sans\",verdana,arial,sans-serif;\n",
        "    }\n",
        "    .text_cell_render h1 {\n",
        "        font-weight: 200;\n",
        "        font-size: 40pt;\n",
        "        line-height: 100%;\n",
        "        color:#447adb;\n",
        "        margin-bottom: 0em;\n",
        "        margin-top: 0em;\n",
        "        display: block;\n",
        "        white-space: nowrap;\n",
        "    } \n",
        "    h2 {\n",
        "        font-family: \"Open sans\",verdana,arial,sans-serif;\n",
        "        text-indent:1em;\n",
        "    }\n",
        "    .text_cell_render h2 {\n",
        "        font-weight: 200;\n",
        "        font-size: 20pt;\n",
        "        font-style: italic;\n",
        "        line-height: 100%;\n",
        "        color:#447adb;\n",
        "        margin-bottom: 1.5em;\n",
        "        margin-top: 0.5em;\n",
        "        display: block;\n",
        "        white-space: nowrap;\n",
        "    } \n",
        "    h3 {\n",
        "        font-family: \"Open sans\",verdana,arial,sans-serif;\n",
        "    }\n",
        "    .text_cell_render h3 {\n",
        "        font-weight: 300;\n",
        "        font-size: 18pt;\n",
        "        line-height: 100%;\n",
        "        color:#447adb;\n",
        "        margin-bottom: 0.5em;\n",
        "        margin-top: 2em;\n",
        "        display: block;\n",
        "        white-space: nowrap;\n",
        "    }\n",
        "    h4 {\n",
        "        font-family: \"Open sans\",verdana,arial,sans-serif;\n",
        "    }\n",
        "    .text_cell_render h4 {\n",
        "        font-weight: 300;\n",
        "        font-size: 16pt;\n",
        "        color:#447adb;\n",
        "        margin-bottom: 0.5em;\n",
        "        margin-top: 0.5em;\n",
        "        display: block;\n",
        "        white-space: nowrap;\n",
        "    }\n",
        "    h5 {\n",
        "        font-family: \"Open sans\",verdana,arial,sans-serif;\n",
        "    }\n",
        "    .text_cell_render h5 {\n",
        "        font-weight: 300;\n",
        "        font-style: normal;\n",
        "        color: #1d3b84;\n",
        "        font-size: 16pt;\n",
        "        margin-bottom: 0em;\n",
        "        margin-top: 1.5em;\n",
        "        display: block;\n",
        "        white-space: nowrap;\n",
        "    }\n",
        "    div.text_cell_render{\n",
        "        font-family: \"Open sans\",verdana,arial,sans-serif;\n",
        "        line-height: 135%;\n",
        "        font-size: 125%;\n",
        "        width:750px;\n",
        "        margin-left:auto;\n",
        "        margin-right:auto;\n",
        "        text-align:justify;\n",
        "        text-justify:inter-word;\n",
        "    }\n",
        "    div.output_subarea.output_text.output_pyout {\n",
        "        overflow-x: auto;\n",
        "        overflow-y: scroll;\n",
        "        max-height: 300px;\n",
        "    }\n",
        "    div.output_subarea.output_stream.output_stdout.output_text {\n",
        "        overflow-x: auto;\n",
        "        overflow-y: scroll;\n",
        "        max-height: 300px;\n",
        "    }\n",
        "    div.output_subarea.output_html.rendered_html {\n",
        "        overflow-x: scroll;\n",
        "        max-width: 100%;\n",
        "      /*  overflow-y: scroll; */\n",
        "      /*  max-height: 300px;   */\n",
        "    }\n",
        "    code{\n",
        "      font-size: 78%;\n",
        "    }\n",
        "    .rendered_html code{\n",
        "        background-color: transparent;\n",
        "        white-space: inherit;   \n",
        "    }\n",
        "    ul{\n",
        "        /* color:#447adb; */  \n",
        "        margin: 2em;\n",
        "    }\n",
        "    ul li{\n",
        "        padding-left: 0.5em; \n",
        "        margin-bottom: 0.5em; \n",
        "        margin-top: 0.5em; \n",
        "    }\n",
        "    ul li li{\n",
        "        padding-left: 0.2em; \n",
        "        margin-bottom: 0.2em; \n",
        "        margin-top: 0.2em; \n",
        "    }\n",
        "    ol{\n",
        "        /* color:#447adb; */  \n",
        "        margin: 2em;\n",
        "    }\n",
        "    ol li{\n",
        "        padding-left: 0.5em; \n",
        "        margin-bottom: 0.5em; \n",
        "        margin-top: 0.5em; \n",
        "    }\n",
        "    /*.prompt{\n",
        "        display: None;\n",
        "    } */\n",
        "    ul li{\n",
        "        padding-left: 0.5em; \n",
        "        margin-bottom: 0.5em; \n",
        "        margin-top: 0.2em; \n",
        "    }\n",
        "    a:link{\n",
        "       font-weight: bold;\n",
        "       color:#447adb;\n",
        "    }\n",
        "    a:visited{\n",
        "       font-weight: bold;\n",
        "       color: #1d3b84;\n",
        "    }\n",
        "    a:hover{\n",
        "       font-weight: bold;\n",
        "       color: #1d3b84;\n",
        "    }\n",
        "    a:focus{\n",
        "       font-weight: bold;\n",
        "       color:#447adb;\n",
        "    }\n",
        "    a:active{\n",
        "       font-weight: bold;\n",
        "       color:#447adb;\n",
        "    }\n",
        "    .rendered_html :link {\n",
        "       text-decoration: none; \n",
        "    }\n",
        "    .rendered_html :hover {\n",
        "       text-decoration: none; \n",
        "    }\n",
        "    .rendered_html :visited {\n",
        "      text-decoration: none;\n",
        "    }\n",
        "    .rendered_html :focus {\n",
        "      text-decoration: none;\n",
        "    }\n",
        "    .rendered_html :active {\n",
        "      text-decoration: none;\n",
        "    }\n",
        "    .warning{\n",
        "        color: rgb( 240, 20, 20 )\n",
        "    } \n",
        "    hr {\n",
        "      color: #f3f3f3;\n",
        "      background-color: #f3f3f3;\n",
        "      height: 1px;\n",
        "    }\n",
        "    blockquote{\n",
        "      display:block;\n",
        "      background: #f3f3f3;\n",
        "      font-family: \"Open sans\",verdana,arial,sans-serif;\n",
        "      width:610px;\n",
        "      padding: 15px 15px 15px 15px;\n",
        "      text-align:justify;\n",
        "      text-justify:inter-word;\n",
        "      }\n",
        "      blockquote p {\n",
        "        margin-bottom: 0;\n",
        "        line-height: 125%;\n",
        "        font-size: 100%;\n",
        "        text-align: center;\n",
        "      }\n",
        "   /* element.style {\n",
        "    } */  \n",
        "</style>\n",
        "<script>\n",
        "    MathJax.Hub.Config({\n",
        "                        TeX: {\n",
        "                           extensions: [\"AMSmath.js\"]\n",
        "                           },\n",
        "                tex2jax: {\n",
        "                    inlineMath: [ [\"$\",\"$\"], [\"\\\\(\",\"\\\\)\"] ],\n",
        "                    displayMath: [ [\"$$\",\"$$\"], [\"\\\\[\",\"\\\\]\"] ]\n",
        "                },\n",
        "                displayAlign: \"center\", // Change this to \"center\" to center equations.\n",
        "                \"HTML-CSS\": {\n",
        "                    styles: {\".MathJax_Display\": {\"margin\": 4}}\n",
        "                }\n",
        "        });\n",
        "</script>\n"
       ],
       "metadata": {},
       "output_type": "display_data",
       "text": [
        "<IPython.core.display.HTML at 0x7faa253df350>"
       ]
      }
     ],
     "prompt_number": 19
    }
   ],
   "metadata": {}
  }
 ]
}